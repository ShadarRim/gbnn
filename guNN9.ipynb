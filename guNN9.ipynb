{
  "nbformat": 4,
  "nbformat_minor": 0,
  "metadata": {
    "kernelspec": {
      "display_name": "Python 3",
      "language": "python",
      "name": "python3"
    },
    "language_info": {
      "codemirror_mode": {
        "name": "ipython",
        "version": 3
      },
      "file_extension": ".py",
      "mimetype": "text/x-python",
      "name": "python",
      "nbconvert_exporter": "python",
      "pygments_lexer": "ipython3",
      "version": "3.7.0"
    },
    "colab": {
      "name": "PyTorch_Intro.ipynb",
      "provenance": []
    },
    "accelerator": "GPU"
  },
  "cells": [
    {
      "cell_type": "code",
      "metadata": {
        "colab": {
          "base_uri": "https://localhost:8080/"
        },
        "id": "WBMjD6kxhELj",
        "outputId": "76990e4b-0ee7-4a89-9d99-bd213c926a71"
      },
      "source": [
        "!pip3 install torch torchvision"
      ],
      "execution_count": 1,
      "outputs": [
        {
          "output_type": "stream",
          "text": [
            "Requirement already satisfied: torch in /usr/local/lib/python3.6/dist-packages (1.7.0+cu101)\n",
            "Requirement already satisfied: torchvision in /usr/local/lib/python3.6/dist-packages (0.8.1+cu101)\n",
            "Requirement already satisfied: numpy in /usr/local/lib/python3.6/dist-packages (from torch) (1.19.5)\n",
            "Requirement already satisfied: future in /usr/local/lib/python3.6/dist-packages (from torch) (0.16.0)\n",
            "Requirement already satisfied: typing-extensions in /usr/local/lib/python3.6/dist-packages (from torch) (3.7.4.3)\n",
            "Requirement already satisfied: dataclasses in /usr/local/lib/python3.6/dist-packages (from torch) (0.8)\n",
            "Requirement already satisfied: pillow>=4.1.1 in /usr/local/lib/python3.6/dist-packages (from torchvision) (7.0.0)\n"
          ],
          "name": "stdout"
        }
      ]
    },
    {
      "cell_type": "code",
      "metadata": {
        "colab": {
          "base_uri": "https://localhost:8080/"
        },
        "id": "HaSUB2AWhELk",
        "outputId": "61c76c56-baa3-4def-e2e3-bf4099a9d6b9"
      },
      "source": [
        "pip show torch"
      ],
      "execution_count": 2,
      "outputs": [
        {
          "output_type": "stream",
          "text": [
            "Name: torch\n",
            "Version: 1.7.0+cu101\n",
            "Summary: Tensors and Dynamic neural networks in Python with strong GPU acceleration\n",
            "Home-page: https://pytorch.org/\n",
            "Author: PyTorch Team\n",
            "Author-email: packages@pytorch.org\n",
            "License: BSD-3\n",
            "Location: /usr/local/lib/python3.6/dist-packages\n",
            "Requires: numpy, dataclasses, future, typing-extensions\n",
            "Required-by: torchvision, torchtext, fastai\n"
          ],
          "name": "stdout"
        }
      ]
    },
    {
      "cell_type": "code",
      "metadata": {
        "colab": {
          "base_uri": "https://localhost:8080/"
        },
        "id": "f-RC4hEHhELk",
        "outputId": "815bd3e4-d2f0-413e-b6eb-c4371b94a116"
      },
      "source": [
        "pip show torchvision"
      ],
      "execution_count": 3,
      "outputs": [
        {
          "output_type": "stream",
          "text": [
            "Name: torchvision\n",
            "Version: 0.8.1+cu101\n",
            "Summary: image and video datasets and models for torch deep learning\n",
            "Home-page: https://github.com/pytorch/vision\n",
            "Author: PyTorch Core Team\n",
            "Author-email: soumith@pytorch.org\n",
            "License: BSD\n",
            "Location: /usr/local/lib/python3.6/dist-packages\n",
            "Requires: torch, numpy, pillow\n",
            "Required-by: fastai\n"
          ],
          "name": "stdout"
        }
      ]
    },
    {
      "cell_type": "code",
      "metadata": {
        "colab": {
          "base_uri": "https://localhost:8080/"
        },
        "id": "WpBCNwsjhELl",
        "outputId": "c8223920-f996-4d02-eb30-55942f028bf2"
      },
      "source": [
        "!nvcc --version"
      ],
      "execution_count": 4,
      "outputs": [
        {
          "output_type": "stream",
          "text": [
            "nvcc: NVIDIA (R) Cuda compiler driver\n",
            "Copyright (c) 2005-2019 NVIDIA Corporation\n",
            "Built on Sun_Jul_28_19:07:16_PDT_2019\n",
            "Cuda compilation tools, release 10.1, V10.1.243\n"
          ],
          "name": "stdout"
        }
      ]
    },
    {
      "cell_type": "code",
      "metadata": {
        "id": "1pms8L9FhELm"
      },
      "source": [
        "import torch\n",
        "import torchvision"
      ],
      "execution_count": 47,
      "outputs": []
    },
    {
      "cell_type": "code",
      "metadata": {
        "id": "4KGeMBP4hELv"
      },
      "source": [
        "from torch import nn \n",
        "from torch import optim"
      ],
      "execution_count": 49,
      "outputs": []
    },
    {
      "cell_type": "markdown",
      "metadata": {
        "id": "7k0RLZYMhELv"
      },
      "source": [
        "* nn - формирование вычислительных графов для слоев нейронных сетей. TensorFlow: Keras.\n",
        "* optim - алгоритмы оптимизации (SGD, Adam и т.д.). TensorFlow: модуль optimizers.\n",
        "* Dataset – представление входных и выходных данных в разных форматах: TensorDataset, IterableDataset)\n",
        "* DataLoader преобразует Dataset в формат, с помощью которого можно контролировать размера пакета (batch size), перемешивать данные, распределять процессы и т.д. В TensorFlow за это отвечает модуль data."
      ]
    },
    {
      "cell_type": "markdown",
      "metadata": {
        "id": "r6-cqGikhELv"
      },
      "source": [
        "### Линейное преобразование"
      ]
    },
    {
      "cell_type": "code",
      "metadata": {
        "id": "FCDKTfXhhELw"
      },
      "source": [
        "linear = nn.Linear(2, 2)"
      ],
      "execution_count": null,
      "outputs": []
    },
    {
      "cell_type": "code",
      "metadata": {
        "scrolled": true,
        "id": "z2VYXymFhELw",
        "outputId": "32b6a48f-8f72-4093-f904-673e4acb659e"
      },
      "source": [
        "print ('w: ', linear.weight)\n",
        "print ('b: ', linear.bias)"
      ],
      "execution_count": null,
      "outputs": [
        {
          "output_type": "stream",
          "text": [
            "w:  Parameter containing:\n",
            "tensor([[-0.4772, -0.4287],\n",
            "        [-0.0383, -0.2576]], requires_grad=True)\n",
            "b:  Parameter containing:\n",
            "tensor([-0.0546,  0.1970], requires_grad=True)\n"
          ],
          "name": "stdout"
        }
      ]
    },
    {
      "cell_type": "markdown",
      "metadata": {
        "id": "HkqHl5ilhELw"
      },
      "source": [
        "Функция потерь:"
      ]
    },
    {
      "cell_type": "code",
      "metadata": {
        "id": "QEbKBCCQhELw"
      },
      "source": [
        "criterion = nn.MSELoss()"
      ],
      "execution_count": null,
      "outputs": []
    },
    {
      "cell_type": "markdown",
      "metadata": {
        "id": "F7ssLoOUhELw"
      },
      "source": [
        "И для метода оптимизации мы используем градиентный стохастический спуск. Мы должны передавать в функцию параметры нашей модели:"
      ]
    },
    {
      "cell_type": "code",
      "metadata": {
        "id": "IDVBQCkhhELw"
      },
      "source": [
        "optimizer = torch.optim.SGD(linear.parameters(), lr=0.01)"
      ],
      "execution_count": null,
      "outputs": []
    },
    {
      "cell_type": "code",
      "metadata": {
        "id": "NCzOY7_chELx"
      },
      "source": [
        "x = Variable(torch.randn(2), requires_grad = True)\n",
        "y = Variable(torch.randn(2), requires_grad = False)"
      ],
      "execution_count": null,
      "outputs": []
    },
    {
      "cell_type": "markdown",
      "metadata": {
        "id": "L_JEGVBghELx"
      },
      "source": [
        "Прежде чем передать наши данные в модель, мы должны обнулить градиент нашего оптимайзера с помощью zero_grad. это нужно делать перед каждой передачей наших данных модели.\n",
        "И мы высчитываем нашу ошибку, используя предсказанные данные и наши лейблы с помощью функций потерь:"
      ]
    },
    {
      "cell_type": "code",
      "metadata": {
        "scrolled": true,
        "id": "RZ1ThY2MhELx",
        "outputId": "90b87e18-3211-486a-a2be-fed4569bdbc2"
      },
      "source": [
        "optimizer.zero_grad()\n",
        "pred = linear(x)\n",
        "loss = criterion(pred, y)\n",
        "print('loss: ', loss.item())"
      ],
      "execution_count": null,
      "outputs": [
        {
          "output_type": "stream",
          "text": [
            "loss:  0.3003738522529602\n"
          ],
          "name": "stdout"
        }
      ]
    },
    {
      "cell_type": "code",
      "metadata": {
        "id": "BhmvbkulhELx",
        "outputId": "574549a4-c9fa-40fb-fc66-45342a6f0472"
      },
      "source": [
        "print ('dL/dw: ', linear.weight.grad) \n",
        "print ('dL/db: ', linear.bias.grad)"
      ],
      "execution_count": null,
      "outputs": [
        {
          "output_type": "stream",
          "text": [
            "dL/dw:  None\n",
            "dL/db:  None\n"
          ],
          "name": "stdout"
        }
      ]
    },
    {
      "cell_type": "markdown",
      "metadata": {
        "id": "cclVwduRhELx"
      },
      "source": [
        "тут высчитываем градиенты:"
      ]
    },
    {
      "cell_type": "code",
      "metadata": {
        "scrolled": true,
        "id": "yadfbwVWhELx"
      },
      "source": [
        "loss.backward()"
      ],
      "execution_count": null,
      "outputs": []
    },
    {
      "cell_type": "code",
      "metadata": {
        "id": "lUwAZWu8hELy",
        "outputId": "155ec589-1e7e-4349-eda1-6eed6f3f822f"
      },
      "source": [
        "print ('dL/dw: ', linear.weight.grad) \n",
        "print ('dL/db: ', linear.bias.grad)"
      ],
      "execution_count": null,
      "outputs": [
        {
          "output_type": "stream",
          "text": [
            "dL/dw:  tensor([[-0.2884,  0.1187],\n",
            "        [ 0.1939, -0.0798]])\n",
            "dL/db:  tensor([ 0.6432, -0.4325])\n"
          ],
          "name": "stdout"
        }
      ]
    },
    {
      "cell_type": "code",
      "metadata": {
        "id": "Tfj7qxP1hELy",
        "outputId": "8c8daec5-5558-4ae8-e6e0-75abd36415ff"
      },
      "source": [
        "print ('w: ', linear.weight)\n",
        "print ('b: ', linear.bias)"
      ],
      "execution_count": null,
      "outputs": [
        {
          "output_type": "stream",
          "text": [
            "w:  Parameter containing:\n",
            "tensor([[-0.4772, -0.4287],\n",
            "        [-0.0383, -0.2576]], requires_grad=True)\n",
            "b:  Parameter containing:\n",
            "tensor([-0.0546,  0.1970], requires_grad=True)\n"
          ],
          "name": "stdout"
        }
      ]
    },
    {
      "cell_type": "markdown",
      "metadata": {
        "id": "7WuUb8AdhELy"
      },
      "source": [
        "А тут обновляем параметры нашего градиента с помощью шага оптимизации:"
      ]
    },
    {
      "cell_type": "code",
      "metadata": {
        "id": "iEZB6-9uhELy"
      },
      "source": [
        "optimizer.step()"
      ],
      "execution_count": null,
      "outputs": []
    },
    {
      "cell_type": "code",
      "metadata": {
        "id": "VUDZNjgchELy",
        "outputId": "71057f6a-d240-4ffc-ec9a-29ec7cbc9115"
      },
      "source": [
        "print ('w: ', linear.weight)\n",
        "print ('b: ', linear.bias)"
      ],
      "execution_count": null,
      "outputs": [
        {
          "output_type": "stream",
          "text": [
            "w:  Parameter containing:\n",
            "tensor([[-0.4743, -0.4299],\n",
            "        [-0.0403, -0.2568]], requires_grad=True)\n",
            "b:  Parameter containing:\n",
            "tensor([-0.0610,  0.2014], requires_grad=True)\n"
          ],
          "name": "stdout"
        }
      ]
    },
    {
      "cell_type": "markdown",
      "metadata": {
        "id": "Y6Pvay79hELz"
      },
      "source": [
        "#### Загрузка существующего датасета:\n",
        "\n",
        "Теперь посмотрим как все это работает с помощью реального датасета:"
      ]
    },
    {
      "cell_type": "code",
      "metadata": {
        "id": "4wyxUlL-hELz"
      },
      "source": [
        "import torchvision.transforms as transforms\n",
        "import matplotlib.pyplot as plt ### воспользуемся для отображения изображения"
      ],
      "execution_count": 50,
      "outputs": []
    },
    {
      "cell_type": "code",
      "metadata": {
        "id": "PrwRd9KbDQG7"
      },
      "source": [
        "transform_train = transforms.Compose([\r\n",
        "    transforms.RandomCrop(32, padding=4),\r\n",
        "    transforms.RandomHorizontalFlip(),\r\n",
        "    transforms.ToTensor(),\r\n",
        "    transforms.Normalize((0.4914, 0.4822, 0.4465), (0.2023, 0.1994, 0.2010)),\r\n",
        "])\r\n",
        "\r\n",
        "# Normalize the test set same as training set without augmentation\r\n",
        "transform_test = transforms.Compose([\r\n",
        "    transforms.ToTensor(),\r\n",
        "    transforms.Normalize((0.4914, 0.4822, 0.4465), (0.2023, 0.1994, 0.2010)),\r\n",
        "])"
      ],
      "execution_count": 198,
      "outputs": []
    },
    {
      "cell_type": "markdown",
      "metadata": {
        "id": "sj9id2SohELz"
      },
      "source": [
        "Будем рассматривать датасет CIFAR10, который представлен в библиотеке torchvision. "
      ]
    },
    {
      "cell_type": "code",
      "metadata": {
        "colab": {
          "base_uri": "https://localhost:8080/"
        },
        "id": "rhPN5ghOhELz",
        "outputId": "faf94a42-2d2e-4d8e-a94e-fee8b0660169"
      },
      "source": [
        "train_dataset = torchvision.datasets.CIFAR10(root='../../data/', # путь куда будут скачиваться наши данные(если download=true), \n",
        "                                                                 # или где лежат наши данные(dowload=False)\n",
        "                                             train=True, # говорим что используем датасет для обучения  \n",
        "                                             transform=transform_train, # важная строчка: здесь мы преобразуем данные\n",
        "                                                                                # из датасета в формат тензоров из торч\n",
        "                                             download=True)\n",
        "\n",
        "\n",
        "image, label = train_dataset[0]\n",
        "print (image.size())\n",
        "print (label)"
      ],
      "execution_count": 199,
      "outputs": [
        {
          "output_type": "stream",
          "text": [
            "Files already downloaded and verified\n",
            "torch.Size([3, 32, 32])\n",
            "6\n"
          ],
          "name": "stdout"
        }
      ]
    },
    {
      "cell_type": "markdown",
      "metadata": {
        "id": "MqcDJaNihELz"
      },
      "source": [
        "Что бы вывести, наше изображение, нам нужно воспользоваться функцией permute и поменять размерности:"
      ]
    },
    {
      "cell_type": "code",
      "metadata": {
        "scrolled": true,
        "colab": {
          "base_uri": "https://localhost:8080/",
          "height": 283
        },
        "id": "m8SIyXXWhEL0",
        "outputId": "d8099c18-fc31-4b5d-c8e7-3a6eb1fd8599"
      },
      "source": [
        "plt.imshow(image.permute(1, 2, 0).numpy())"
      ],
      "execution_count": 11,
      "outputs": [
        {
          "output_type": "execute_result",
          "data": {
            "text/plain": [
              "<matplotlib.image.AxesImage at 0x7f4272709da0>"
            ]
          },
          "metadata": {
            "tags": []
          },
          "execution_count": 11
        },
        {
          "output_type": "display_data",
          "data": {
            "image/png": "[encoded data removed]",
            "text/plain": [
              "<Figure size 432x288 with 1 Axes>"
            ]
          },
          "metadata": {
            "tags": [],
            "needs_background": "light"
          }
        }
      ]
    },
    {
      "cell_type": "markdown",
      "metadata": {
        "id": "Hm5dOKVDhEL0"
      },
      "source": [
        "Теперь скачав датасет, нам нужно его как-то оформить для загрузки в нашу модель. Делается это с помощью DataLoader:"
      ]
    },
    {
      "cell_type": "code",
      "metadata": {
        "id": "NnGUmhbGhEL0"
      },
      "source": [
        "train_loader = torch.utils.data.DataLoader(dataset=train_dataset,\n",
        "                                           batch_size=32, \n",
        "                                           shuffle=True)"
      ],
      "execution_count": 200,
      "outputs": []
    },
    {
      "cell_type": "code",
      "metadata": {
        "colab": {
          "base_uri": "https://localhost:8080/"
        },
        "id": "E0TzyjF3hEL1",
        "outputId": "e56dfd0a-301a-4567-b00c-8313048ec379"
      },
      "source": [
        "test_dataset = torchvision.datasets.CIFAR10(root='./data', train=False,\n",
        "                                       download=True, transform=transform_test)\n",
        "test_loader = torch.utils.data.DataLoader(test_dataset, batch_size=1,\n",
        "                                         shuffle=False)"
      ],
      "execution_count": 201,
      "outputs": [
        {
          "output_type": "stream",
          "text": [
            "Files already downloaded and verified\n"
          ],
          "name": "stdout"
        }
      ]
    },
    {
      "cell_type": "code",
      "metadata": {
        "id": "ExyNa8R_iiEl"
      },
      "source": [
        "device = torch.device('cuda:0' if torch.cuda.is_available() else 'cpu')"
      ],
      "execution_count": 54,
      "outputs": []
    },
    {
      "cell_type": "code",
      "metadata": {
        "id": "PrWBx5ychEL1"
      },
      "source": [
        "classes = ('plane', 'car', 'bird', 'cat',\n",
        "           'deer', 'dog', 'frog', 'horse', 'ship', 'truck')"
      ],
      "execution_count": 55,
      "outputs": []
    },
    {
      "cell_type": "markdown",
      "metadata": {
        "id": "uYCY3EGohEL1"
      },
      "source": [
        "Определим следующую модель:"
      ]
    },
    {
      "cell_type": "code",
      "metadata": {
        "id": "P5VPKQoAhEL1"
      },
      "source": [
        "import torch.nn.functional as F\n",
        "\n",
        "\n",
        "class Net(nn.Module):\n",
        "    def __init__(self):\n",
        "        super().__init__()\n",
        "        self.conv_layer = nn.Sequential(\n",
        "\n",
        "            # Conv Layer block 1\n",
        "            nn.Conv2d(in_channels=3, out_channels=32, kernel_size=3, padding=1),\n",
        "            nn.BatchNorm2d(32),\n",
        "            nn.ReLU(inplace=True),\n",
        "            nn.Conv2d(in_channels=32, out_channels=64, kernel_size=3, padding=1),\n",
        "            nn.ReLU(inplace=True),\n",
        "            nn.MaxPool2d(kernel_size=2, stride=2),\n",
        "\n",
        "            # Conv Layer block 2\n",
        "            nn.Conv2d(in_channels=64, out_channels=128, kernel_size=3, padding=1),\n",
        "            nn.BatchNorm2d(128),\n",
        "            nn.ReLU(inplace=True),\n",
        "            nn.Conv2d(in_channels=128, out_channels=128, kernel_size=3, padding=1),\n",
        "            nn.ReLU(inplace=True),\n",
        "            nn.MaxPool2d(kernel_size=2, stride=2),\n",
        "            nn.Dropout2d(p=0.05),\n",
        "\n",
        "            # Conv Layer block 3\n",
        "            nn.Conv2d(in_channels=128, out_channels=256, kernel_size=3, padding=1),\n",
        "            nn.BatchNorm2d(256),\n",
        "            nn.ReLU(inplace=True),\n",
        "            nn.Conv2d(in_channels=256, out_channels=256, kernel_size=3, padding=1),\n",
        "            nn.ReLU(inplace=True),\n",
        "            nn.MaxPool2d(kernel_size=2, stride=2),\n",
        "        )\n",
        "\n",
        "\n",
        "        self.fc_layer = nn.Sequential(\n",
        "            nn.Dropout(p=0.1),\n",
        "            nn.Linear(4096, 1024),\n",
        "            nn.ReLU(inplace=True),\n",
        "            nn.Linear(1024, 512),\n",
        "            nn.ReLU(inplace=True),\n",
        "            nn.Dropout(p=0.1),\n",
        "            nn.Linear(512, 10)\n",
        "        )\n",
        "\n",
        "    def forward(self, x):\n",
        "        # conv layers\n",
        "        x = self.conv_layer(x)\n",
        "        \n",
        "        # flatten\n",
        "        x = x.view(x.size(0), -1)\n",
        "        \n",
        "        # fc layer\n",
        "        x = self.fc_layer(x)\n",
        "        return x\n",
        "\n",
        "\n",
        "net = Net().to(device)"
      ],
      "execution_count": 207,
      "outputs": []
    },
    {
      "cell_type": "code",
      "metadata": {
        "colab": {
          "base_uri": "https://localhost:8080/"
        },
        "id": "NgEiPzeZhEL1",
        "outputId": "05c33794-c25f-4f6d-f429-f6cb6f9df535"
      },
      "source": [
        "net"
      ],
      "execution_count": 203,
      "outputs": [
        {
          "output_type": "execute_result",
          "data": {
            "text/plain": [
              "Net(\n",
              "  (conv_layer): Sequential(\n",
              "    (0): Conv2d(3, 32, kernel_size=(3, 3), stride=(1, 1), padding=(1, 1))\n",
              "    (1): BatchNorm2d(32, eps=1e-05, momentum=0.1, affine=True, track_running_stats=True)\n",
              "    (2): ReLU(inplace=True)\n",
              "    (3): Conv2d(32, 64, kernel_size=(3, 3), stride=(1, 1), padding=(1, 1))\n",
              "    (4): ReLU(inplace=True)\n",
              "    (5): MaxPool2d(kernel_size=2, stride=2, padding=0, dilation=1, ceil_mode=False)\n",
              "    (6): Conv2d(64, 128, kernel_size=(3, 3), stride=(1, 1), padding=(1, 1))\n",
              "    (7): BatchNorm2d(128, eps=1e-05, momentum=0.1, affine=True, track_running_stats=True)\n",
              "    (8): ReLU(inplace=True)\n",
              "    (9): Conv2d(128, 128, kernel_size=(3, 3), stride=(1, 1), padding=(1, 1))\n",
              "    (10): ReLU(inplace=True)\n",
              "    (11): MaxPool2d(kernel_size=2, stride=2, padding=0, dilation=1, ceil_mode=False)\n",
              "    (12): Dropout2d(p=0.05, inplace=False)\n",
              "    (13): Conv2d(128, 256, kernel_size=(3, 3), stride=(1, 1), padding=(1, 1))\n",
              "    (14): BatchNorm2d(256, eps=1e-05, momentum=0.1, affine=True, track_running_stats=True)\n",
              "    (15): ReLU(inplace=True)\n",
              "    (16): Conv2d(256, 256, kernel_size=(3, 3), stride=(1, 1), padding=(1, 1))\n",
              "    (17): ReLU(inplace=True)\n",
              "    (18): MaxPool2d(kernel_size=2, stride=2, padding=0, dilation=1, ceil_mode=False)\n",
              "  )\n",
              "  (fc_layer): Sequential(\n",
              "    (0): Dropout(p=0.1, inplace=False)\n",
              "    (1): Linear(in_features=4096, out_features=1024, bias=True)\n",
              "    (2): ReLU(inplace=True)\n",
              "    (3): Linear(in_features=1024, out_features=512, bias=True)\n",
              "    (4): ReLU(inplace=True)\n",
              "    (5): Dropout(p=0.1, inplace=False)\n",
              "    (6): Linear(in_features=512, out_features=10, bias=True)\n",
              "  )\n",
              ")"
            ]
          },
          "metadata": {
            "tags": []
          },
          "execution_count": 203
        }
      ]
    },
    {
      "cell_type": "code",
      "metadata": {
        "id": "vwaxvBTDhEL2"
      },
      "source": [
        "criterion = nn.CrossEntropyLoss()\n",
        "optimizer = optim.Adam(net.parameters(), lr=0.001)"
      ],
      "execution_count": 208,
      "outputs": []
    },
    {
      "cell_type": "code",
      "metadata": {
        "colab": {
          "base_uri": "https://localhost:8080/"
        },
        "id": "8osojCrUhEL2",
        "outputId": "f3a49af6-e211-4c8a-ab77-3fffc64c66eb"
      },
      "source": [
        "for epoch in range(15):  # 10 эпох \n",
        "    running_loss = 0.0 # Для вывода процесса обучения\n",
        "    for i, data in enumerate(train_loader, 0):\n",
        "        inputs, labels = data[0].to(device), data[1].to(device)\n",
        "\n",
        "        # Обнуляем градиент\n",
        "        optimizer.zero_grad()\n",
        "    \n",
        "        # Делаем предсказание\n",
        "        outputs = net(inputs)\n",
        "        # Рассчитываем лосс-функцию\n",
        "        loss = criterion(outputs, labels)\n",
        "        # Делаем шаг назад по лоссу\n",
        "        loss.backward()\n",
        "        # Делаем шаг нашего оптимайзера\n",
        "        optimizer.step()\n",
        "\n",
        "        # выводим статистику о процессе обучения\n",
        "        running_loss += loss.item()\n",
        "        m = 300\n",
        "        if i % m == 0:    # печатаем каждые 2000 mini-batches\n",
        "            print('[%d, %5d] loss: %.3f' %\n",
        "                  (epoch + 1, i + 1, running_loss / m))\n",
        "            running_loss = 0.0\n",
        "\n",
        "print('Training is finished!')"
      ],
      "execution_count": 209,
      "outputs": [
        {
          "output_type": "stream",
          "text": [
            "[1,     1] loss: 0.008\n",
            "[1,   301] loss: 1.950\n",
            "[1,   601] loss: 1.758\n",
            "[1,   901] loss: 1.639\n",
            "[1,  1201] loss: 1.562\n",
            "[1,  1501] loss: 1.468\n",
            "[2,     1] loss: 0.005\n",
            "[2,   301] loss: 1.395\n",
            "[2,   601] loss: 1.369\n",
            "[2,   901] loss: 1.295\n",
            "[2,  1201] loss: 1.273\n",
            "[2,  1501] loss: 1.229\n",
            "[3,     1] loss: 0.005\n",
            "[3,   301] loss: 1.194\n",
            "[3,   601] loss: 1.159\n",
            "[3,   901] loss: 1.101\n",
            "[3,  1201] loss: 1.100\n",
            "[3,  1501] loss: 1.076\n",
            "[4,     1] loss: 0.004\n",
            "[4,   301] loss: 1.036\n",
            "[4,   601] loss: 1.038\n",
            "[4,   901] loss: 0.988\n",
            "[4,  1201] loss: 0.985\n",
            "[4,  1501] loss: 0.991\n",
            "[5,     1] loss: 0.003\n",
            "[5,   301] loss: 0.930\n",
            "[5,   601] loss: 0.929\n",
            "[5,   901] loss: 0.926\n",
            "[5,  1201] loss: 0.899\n",
            "[5,  1501] loss: 0.898\n",
            "[6,     1] loss: 0.003\n",
            "[6,   301] loss: 0.880\n",
            "[6,   601] loss: 0.859\n",
            "[6,   901] loss: 0.861\n",
            "[6,  1201] loss: 0.845\n",
            "[6,  1501] loss: 0.811\n",
            "[7,     1] loss: 0.003\n",
            "[7,   301] loss: 0.805\n",
            "[7,   601] loss: 0.824\n",
            "[7,   901] loss: 0.800\n",
            "[7,  1201] loss: 0.802\n",
            "[7,  1501] loss: 0.791\n",
            "[8,     1] loss: 0.004\n",
            "[8,   301] loss: 0.770\n",
            "[8,   601] loss: 0.755\n",
            "[8,   901] loss: 0.750\n",
            "[8,  1201] loss: 0.751\n",
            "[8,  1501] loss: 0.757\n",
            "[9,     1] loss: 0.002\n",
            "[9,   301] loss: 0.733\n",
            "[9,   601] loss: 0.721\n",
            "[9,   901] loss: 0.723\n",
            "[9,  1201] loss: 0.726\n",
            "[9,  1501] loss: 0.708\n",
            "[10,     1] loss: 0.003\n",
            "[10,   301] loss: 0.687\n",
            "[10,   601] loss: 0.712\n",
            "[10,   901] loss: 0.686\n",
            "[10,  1201] loss: 0.676\n",
            "[10,  1501] loss: 0.690\n",
            "[11,     1] loss: 0.002\n",
            "[11,   301] loss: 0.671\n",
            "[11,   601] loss: 0.661\n",
            "[11,   901] loss: 0.662\n",
            "[11,  1201] loss: 0.649\n",
            "[11,  1501] loss: 0.655\n",
            "[12,     1] loss: 0.003\n",
            "[12,   301] loss: 0.642\n",
            "[12,   601] loss: 0.646\n",
            "[12,   901] loss: 0.634\n",
            "[12,  1201] loss: 0.640\n",
            "[12,  1501] loss: 0.633\n",
            "[13,     1] loss: 0.002\n",
            "[13,   301] loss: 0.616\n",
            "[13,   601] loss: 0.618\n",
            "[13,   901] loss: 0.612\n",
            "[13,  1201] loss: 0.614\n",
            "[13,  1501] loss: 0.606\n",
            "[14,     1] loss: 0.002\n",
            "[14,   301] loss: 0.593\n",
            "[14,   601] loss: 0.604\n",
            "[14,   901] loss: 0.598\n",
            "[14,  1201] loss: 0.590\n",
            "[14,  1501] loss: 0.595\n",
            "[15,     1] loss: 0.001\n",
            "[15,   301] loss: 0.559\n",
            "[15,   601] loss: 0.571\n",
            "[15,   901] loss: 0.582\n",
            "[15,  1201] loss: 0.572\n",
            "[15,  1501] loss: 0.577\n",
            "Training is finished!\n"
          ],
          "name": "stdout"
        }
      ]
    },
    {
      "cell_type": "markdown",
      "metadata": {
        "id": "uOY0SOJfhEL2"
      },
      "source": [
        "#### Сохранение модели"
      ]
    },
    {
      "cell_type": "code",
      "metadata": {
        "id": "l0Xv_1u1hEL2"
      },
      "source": [
        "PATH = './cifar_net_version_test_intro.pth'\n",
        "torch.save(net.state_dict(), PATH)"
      ],
      "execution_count": 210,
      "outputs": []
    },
    {
      "cell_type": "code",
      "metadata": {
        "colab": {
          "base_uri": "https://localhost:8080/"
        },
        "id": "xsGuBWulhEL3",
        "outputId": "3d0aa4a1-dab6-48ff-ef63-60b0fe1444a0"
      },
      "source": [
        "print(\"Model state_dict: \")\n",
        "for param in net.state_dict():\n",
        "    print(param,\" \\ \", net.state_dict()[param].size())"
      ],
      "execution_count": 211,
      "outputs": [
        {
          "output_type": "stream",
          "text": [
            "Model state_dict: \n",
            "conv_layer.0.weight  \\  torch.Size([32, 3, 3, 3])\n",
            "conv_layer.0.bias  \\  torch.Size([32])\n",
            "conv_layer.1.weight  \\  torch.Size([32])\n",
            "conv_layer.1.bias  \\  torch.Size([32])\n",
            "conv_layer.1.running_mean  \\  torch.Size([32])\n",
            "conv_layer.1.running_var  \\  torch.Size([32])\n",
            "conv_layer.1.num_batches_tracked  \\  torch.Size([])\n",
            "conv_layer.3.weight  \\  torch.Size([64, 32, 3, 3])\n",
            "conv_layer.3.bias  \\  torch.Size([64])\n",
            "conv_layer.6.weight  \\  torch.Size([128, 64, 3, 3])\n",
            "conv_layer.6.bias  \\  torch.Size([128])\n",
            "conv_layer.7.weight  \\  torch.Size([128])\n",
            "conv_layer.7.bias  \\  torch.Size([128])\n",
            "conv_layer.7.running_mean  \\  torch.Size([128])\n",
            "conv_layer.7.running_var  \\  torch.Size([128])\n",
            "conv_layer.7.num_batches_tracked  \\  torch.Size([])\n",
            "conv_layer.9.weight  \\  torch.Size([128, 128, 3, 3])\n",
            "conv_layer.9.bias  \\  torch.Size([128])\n",
            "conv_layer.13.weight  \\  torch.Size([256, 128, 3, 3])\n",
            "conv_layer.13.bias  \\  torch.Size([256])\n",
            "conv_layer.14.weight  \\  torch.Size([256])\n",
            "conv_layer.14.bias  \\  torch.Size([256])\n",
            "conv_layer.14.running_mean  \\  torch.Size([256])\n",
            "conv_layer.14.running_var  \\  torch.Size([256])\n",
            "conv_layer.14.num_batches_tracked  \\  torch.Size([])\n",
            "conv_layer.16.weight  \\  torch.Size([256, 256, 3, 3])\n",
            "conv_layer.16.bias  \\  torch.Size([256])\n",
            "fc_layer.1.weight  \\  torch.Size([1024, 4096])\n",
            "fc_layer.1.bias  \\  torch.Size([1024])\n",
            "fc_layer.3.weight  \\  torch.Size([512, 1024])\n",
            "fc_layer.3.bias  \\  torch.Size([512])\n",
            "fc_layer.6.weight  \\  torch.Size([10, 512])\n",
            "fc_layer.6.bias  \\  torch.Size([10])\n"
          ],
          "name": "stdout"
        }
      ]
    },
    {
      "cell_type": "markdown",
      "metadata": {
        "id": "Ehb9ZOxthEL3"
      },
      "source": [
        "#### Загрузка и использование модели "
      ]
    },
    {
      "cell_type": "code",
      "metadata": {
        "colab": {
          "base_uri": "https://localhost:8080/"
        },
        "id": "knoxO0lAhEL3",
        "outputId": "32154030-2786-4a77-d983-59093f0812b3"
      },
      "source": [
        "net = Net().to(device)\n",
        "net.load_state_dict(torch.load(PATH))"
      ],
      "execution_count": 212,
      "outputs": [
        {
          "output_type": "execute_result",
          "data": {
            "text/plain": [
              "<All keys matched successfully>"
            ]
          },
          "metadata": {
            "tags": []
          },
          "execution_count": 212
        }
      ]
    },
    {
      "cell_type": "code",
      "metadata": {
        "id": "vXnT94HyhEL3"
      },
      "source": [
        "data_iter = iter(test_loader)\n",
        "images, labels = data_iter.next()"
      ],
      "execution_count": 213,
      "outputs": []
    },
    {
      "cell_type": "code",
      "metadata": {
        "colab": {
          "base_uri": "https://localhost:8080/",
          "height": 237
        },
        "id": "uA0rKXZdhEL3",
        "outputId": "042f82f7-92c3-4e36-def4-5f923765a79a"
      },
      "source": [
        "outputs = net(images)\n",
        "imgs = torchvision.utils.make_grid(images)\n",
        "plt.imshow(imgs.permute(1, 2, 0).numpy())\n",
        "print('GroundTruth: ', ' '.join('%5s' % classes[labels[j]] for j in range(28)))"
      ],
      "execution_count": 38,
      "outputs": [
        {
          "output_type": "stream",
          "text": [
            "GroundTruth:    cat  ship  ship plane  frog  frog   car  frog   cat   car plane truck   dog horse truck  ship   dog horse  ship  frog horse plane  deer truck   dog  bird  deer plane\n"
          ],
          "name": "stdout"
        },
        {
          "output_type": "display_data",
          "data": {
            "image/png": "[encoded data removed]",
            "text/plain": [
              "<Figure size 432x288 with 1 Axes>"
            ]
          },
          "metadata": {
            "tags": [],
            "needs_background": "light"
          }
        }
      ]
    },
    {
      "cell_type": "code",
      "metadata": {
        "colab": {
          "base_uri": "https://localhost:8080/"
        },
        "id": "Cq4rwC18lnI0",
        "outputId": "9ea5a840-6727-4948-a603-9ad4b77e2b28"
      },
      "source": [
        "sum = 0\r\n",
        "max = 0\r\n",
        "for i, data in enumerate(test_loader, 0):\r\n",
        "    inputs, labels = data[0].to(device), data[1]\r\n",
        "    outputs = net(inputs)\r\n",
        "    _, predicted = torch.max(outputs, 1)\r\n",
        "    predicted = predicted.to('cpu')\r\n",
        "    if labels.numpy()[0] == predicted.numpy()[0]:\r\n",
        "      sum += 1\r\n",
        "    max += 1\r\n",
        "\r\n",
        "print(sum/max)"
      ],
      "execution_count": 214,
      "outputs": [
        {
          "output_type": "stream",
          "text": [
            "0.5912\n"
          ],
          "name": "stdout"
        }
      ]
    }
  ]
}