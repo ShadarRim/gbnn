{
  "nbformat": 4,
  "nbformat_minor": 0,
  "metadata": {
    "colab": {
      "name": "gan2.ipynb",
      "provenance": []
    },
    "kernelspec": {
      "name": "python3",
      "display_name": "Python 3"
    },
    "accelerator": "GPU",
    "widgets": {
      "application/vnd.jupyter.widget-state+json": {
        "c981e18e779649b59b0b067183aaef86": {
          "model_module": "@jupyter-widgets/controls",
          "model_name": "HBoxModel",
          "state": {
            "_view_name": "HBoxView",
            "_dom_classes": [],
            "_model_name": "HBoxModel",
            "_view_module": "@jupyter-widgets/controls",
            "_model_module_version": "1.5.0",
            "_view_count": null,
            "_view_module_version": "1.5.0",
            "box_style": "",
            "layout": "IPY_MODEL_ea53f41ca1974cb6b90cf3813710b76c",
            "_model_module": "@jupyter-widgets/controls",
            "children": [
              "IPY_MODEL_ec840ff396e6465bbb1e16e5ed61aa73",
              "IPY_MODEL_625a45f8bbe3487dbc8fd9ed5051dbfe"
            ]
          }
        },
        "ea53f41ca1974cb6b90cf3813710b76c": {
          "model_module": "@jupyter-widgets/base",
          "model_name": "LayoutModel",
          "state": {
            "_view_name": "LayoutView",
            "grid_template_rows": null,
            "right": null,
            "justify_content": null,
            "_view_module": "@jupyter-widgets/base",
            "overflow": null,
            "_model_module_version": "1.2.0",
            "_view_count": null,
            "flex_flow": null,
            "width": null,
            "min_width": null,
            "border": null,
            "align_items": null,
            "bottom": null,
            "_model_module": "@jupyter-widgets/base",
            "top": null,
            "grid_column": null,
            "overflow_y": null,
            "overflow_x": null,
            "grid_auto_flow": null,
            "grid_area": null,
            "grid_template_columns": null,
            "flex": null,
            "_model_name": "LayoutModel",
            "justify_items": null,
            "grid_row": null,
            "max_height": null,
            "align_content": null,
            "visibility": null,
            "align_self": null,
            "height": null,
            "min_height": null,
            "padding": null,
            "grid_auto_rows": null,
            "grid_gap": null,
            "max_width": null,
            "order": null,
            "_view_module_version": "1.2.0",
            "grid_template_areas": null,
            "object_position": null,
            "object_fit": null,
            "grid_auto_columns": null,
            "margin": null,
            "display": null,
            "left": null
          }
        },
        "ec840ff396e6465bbb1e16e5ed61aa73": {
          "model_module": "@jupyter-widgets/controls",
          "model_name": "FloatProgressModel",
          "state": {
            "_view_name": "ProgressView",
            "style": "IPY_MODEL_6a7e4484e1004e0b912204143ad72b77",
            "_dom_classes": [],
            "description": "",
            "_model_name": "FloatProgressModel",
            "bar_style": "info",
            "max": 1,
            "_view_module": "@jupyter-widgets/controls",
            "_model_module_version": "1.5.0",
            "value": 1,
            "_view_count": null,
            "_view_module_version": "1.5.0",
            "orientation": "horizontal",
            "min": 0,
            "description_tooltip": null,
            "_model_module": "@jupyter-widgets/controls",
            "layout": "IPY_MODEL_e04b37c030df4cf699fbfb5295629026"
          }
        },
        "625a45f8bbe3487dbc8fd9ed5051dbfe": {
          "model_module": "@jupyter-widgets/controls",
          "model_name": "HTMLModel",
          "state": {
            "_view_name": "HTMLView",
            "style": "IPY_MODEL_ee08cb7f8ff840d3aa4c55f89aa7f0a4",
            "_dom_classes": [],
            "description": "",
            "_model_name": "HTMLModel",
            "placeholder": "​",
            "_view_module": "@jupyter-widgets/controls",
            "_model_module_version": "1.5.0",
            "value": " 170500096/? [00:20&lt;00:00, 82147606.25it/s]",
            "_view_count": null,
            "_view_module_version": "1.5.0",
            "description_tooltip": null,
            "_model_module": "@jupyter-widgets/controls",
            "layout": "IPY_MODEL_32975c43e9ba4236ade04e5c2d02748a"
          }
        },
        "6a7e4484e1004e0b912204143ad72b77": {
          "model_module": "@jupyter-widgets/controls",
          "model_name": "ProgressStyleModel",
          "state": {
            "_view_name": "StyleView",
            "_model_name": "ProgressStyleModel",
            "description_width": "initial",
            "_view_module": "@jupyter-widgets/base",
            "_model_module_version": "1.5.0",
            "_view_count": null,
            "_view_module_version": "1.2.0",
            "bar_color": null,
            "_model_module": "@jupyter-widgets/controls"
          }
        },
        "e04b37c030df4cf699fbfb5295629026": {
          "model_module": "@jupyter-widgets/base",
          "model_name": "LayoutModel",
          "state": {
            "_view_name": "LayoutView",
            "grid_template_rows": null,
            "right": null,
            "justify_content": null,
            "_view_module": "@jupyter-widgets/base",
            "overflow": null,
            "_model_module_version": "1.2.0",
            "_view_count": null,
            "flex_flow": null,
            "width": null,
            "min_width": null,
            "border": null,
            "align_items": null,
            "bottom": null,
            "_model_module": "@jupyter-widgets/base",
            "top": null,
            "grid_column": null,
            "overflow_y": null,
            "overflow_x": null,
            "grid_auto_flow": null,
            "grid_area": null,
            "grid_template_columns": null,
            "flex": null,
            "_model_name": "LayoutModel",
            "justify_items": null,
            "grid_row": null,
            "max_height": null,
            "align_content": null,
            "visibility": null,
            "align_self": null,
            "height": null,
            "min_height": null,
            "padding": null,
            "grid_auto_rows": null,
            "grid_gap": null,
            "max_width": null,
            "order": null,
            "_view_module_version": "1.2.0",
            "grid_template_areas": null,
            "object_position": null,
            "object_fit": null,
            "grid_auto_columns": null,
            "margin": null,
            "display": null,
            "left": null
          }
        },
        "ee08cb7f8ff840d3aa4c55f89aa7f0a4": {
          "model_module": "@jupyter-widgets/controls",
          "model_name": "DescriptionStyleModel",
          "state": {
            "_view_name": "StyleView",
            "_model_name": "DescriptionStyleModel",
            "description_width": "",
            "_view_module": "@jupyter-widgets/base",
            "_model_module_version": "1.5.0",
            "_view_count": null,
            "_view_module_version": "1.2.0",
            "_model_module": "@jupyter-widgets/controls"
          }
        },
        "32975c43e9ba4236ade04e5c2d02748a": {
          "model_module": "@jupyter-widgets/base",
          "model_name": "LayoutModel",
          "state": {
            "_view_name": "LayoutView",
            "grid_template_rows": null,
            "right": null,
            "justify_content": null,
            "_view_module": "@jupyter-widgets/base",
            "overflow": null,
            "_model_module_version": "1.2.0",
            "_view_count": null,
            "flex_flow": null,
            "width": null,
            "min_width": null,
            "border": null,
            "align_items": null,
            "bottom": null,
            "_model_module": "@jupyter-widgets/base",
            "top": null,
            "grid_column": null,
            "overflow_y": null,
            "overflow_x": null,
            "grid_auto_flow": null,
            "grid_area": null,
            "grid_template_columns": null,
            "flex": null,
            "_model_name": "LayoutModel",
            "justify_items": null,
            "grid_row": null,
            "max_height": null,
            "align_content": null,
            "visibility": null,
            "align_self": null,
            "height": null,
            "min_height": null,
            "padding": null,
            "grid_auto_rows": null,
            "grid_gap": null,
            "max_width": null,
            "order": null,
            "_view_module_version": "1.2.0",
            "grid_template_areas": null,
            "object_position": null,
            "object_fit": null,
            "grid_auto_columns": null,
            "margin": null,
            "display": null,
            "left": null
          }
        }
      }
    }
  },
  "cells": [
    {
      "cell_type": "code",
      "metadata": {
        "id": "lsLAxEA5qGDA"
      },
      "source": [
        "import torch.nn as nn"
      ],
      "execution_count": 1,
      "outputs": []
    },
    {
      "cell_type": "code",
      "metadata": {
        "id": "d3lfRCxUqRIN"
      },
      "source": [
        "class Generator(nn.Module):\r\n",
        "    def __init__(self, nz):\r\n",
        "        super(Generator, self).__init__()\r\n",
        "        self.nz = nz\r\n",
        "        self.main = nn.Sequential(\r\n",
        "            # nz will be the input to the first convolution\r\n",
        "            nn.ConvTranspose2d(\r\n",
        "                nz, 512, kernel_size=4, \r\n",
        "                stride=1, padding=0, bias=False),\r\n",
        "            nn.BatchNorm2d(512),\r\n",
        "            nn.ReLU(True),\r\n",
        "            nn.ConvTranspose2d(\r\n",
        "                512, 256, kernel_size=4, \r\n",
        "                stride=2, padding=1, bias=False),\r\n",
        "            nn.BatchNorm2d(256),\r\n",
        "            nn.ReLU(True),\r\n",
        "            nn.ConvTranspose2d(\r\n",
        "                256, 128, kernel_size=4, \r\n",
        "                stride=2, padding=1, bias=False),\r\n",
        "            nn.BatchNorm2d(128),\r\n",
        "            nn.ReLU(True),\r\n",
        "            nn.ConvTranspose2d(\r\n",
        "                128, 64, kernel_size=4, \r\n",
        "                stride=2, padding=1, bias=False),\r\n",
        "            nn.BatchNorm2d(64),\r\n",
        "            nn.ReLU(True),\r\n",
        "            nn.ConvTranspose2d(\r\n",
        "                64, 3, kernel_size=4, \r\n",
        "                stride=2, padding=1, bias=False),\r\n",
        "            nn.Tanh()\r\n",
        "        )\r\n",
        "    def forward(self, input):\r\n",
        "        return self.main(input)"
      ],
      "execution_count": 2,
      "outputs": []
    },
    {
      "cell_type": "code",
      "metadata": {
        "id": "vd0ejN9FqlHQ"
      },
      "source": [
        "class Discriminator(nn.Module):\r\n",
        "    def __init__(self):\r\n",
        "        super(Discriminator, self).__init__()\r\n",
        "        self.main = nn.Sequential(\r\n",
        "            nn.Conv2d(\r\n",
        "                3, 64, kernel_size=4, \r\n",
        "                stride=2, padding=1, bias=False),\r\n",
        "            nn.LeakyReLU(0.2, inplace=True),\r\n",
        "            nn.Conv2d(\r\n",
        "                64, 128, kernel_size=4, \r\n",
        "                stride=2, padding=1, bias=False),\r\n",
        "            nn.BatchNorm2d(128),\r\n",
        "            nn.LeakyReLU(0.2, inplace=True),\r\n",
        "            nn.Conv2d(\r\n",
        "                128, 256, kernel_size=4, \r\n",
        "                stride=2, padding=1, bias=False),\r\n",
        "            nn.BatchNorm2d(256),\r\n",
        "            nn.LeakyReLU(0.2, inplace=True),\r\n",
        "            nn.Conv2d(\r\n",
        "                256, 512, kernel_size=4, \r\n",
        "                stride=2, padding=1, bias=False),\r\n",
        "            nn.BatchNorm2d(512),\r\n",
        "            nn.LeakyReLU(0.2, inplace=True),\r\n",
        "            nn.Conv2d(\r\n",
        "                512, 1, kernel_size=4, \r\n",
        "                stride=1, padding=0, bias=False),\r\n",
        "            nn.Sigmoid()\r\n",
        "        )\r\n",
        "    def forward(self, input):\r\n",
        "        return self.main(input)"
      ],
      "execution_count": 3,
      "outputs": []
    },
    {
      "cell_type": "code",
      "metadata": {
        "id": "n-l31o6wqolY"
      },
      "source": [
        "import torch\r\n",
        "import torch.nn as nn\r\n",
        "from torchvision.utils import save_image\r\n",
        "# set the computation device\r\n",
        "device = torch.device('cuda' if torch.cuda.is_available() else 'cpu')"
      ],
      "execution_count": 4,
      "outputs": []
    },
    {
      "cell_type": "code",
      "metadata": {
        "id": "evtT9pYKqrrL"
      },
      "source": [
        "def label_real(size):\r\n",
        "    \"\"\"\r\n",
        "    Fucntion to create real labels (ones)\r\n",
        "    :param size: batch size\r\n",
        "    :return real label vector\r\n",
        "    \"\"\"\r\n",
        "    data = torch.ones(size, 1)\r\n",
        "    return data.to(device)\r\n",
        "def label_fake(size):\r\n",
        "    \"\"\"\r\n",
        "    Fucntion to create fake labels (zeros)\r\n",
        "    :param size: batch size\r\n",
        "    :returns fake label vector\r\n",
        "    \"\"\"\r\n",
        "    data = torch.zeros(size, 1)\r\n",
        "    return data.to(device)"
      ],
      "execution_count": 5,
      "outputs": []
    },
    {
      "cell_type": "code",
      "metadata": {
        "id": "691fDV8AquSv"
      },
      "source": [
        "def create_noise(sample_size, nz):\r\n",
        "    \"\"\"\r\n",
        "    Fucntion to create noise\r\n",
        "    :param sample_size: fixed sample size or batch size\r\n",
        "    :param nz: latent vector size\r\n",
        "    :returns random noise vector\r\n",
        "    \"\"\"\r\n",
        "    return torch.randn(sample_size, nz, 1, 1).to(device)"
      ],
      "execution_count": 6,
      "outputs": []
    },
    {
      "cell_type": "code",
      "metadata": {
        "id": "Nw0KQUosq3Va"
      },
      "source": [
        "def save_generator_image(image, path):\r\n",
        "    \"\"\"\r\n",
        "    Function to save torch image batches\r\n",
        "    :param image: image tensor batch\r\n",
        "    :param path: path name to save image\r\n",
        "    \"\"\"\r\n",
        "    save_image(image, path, normalize=True)"
      ],
      "execution_count": 7,
      "outputs": []
    },
    {
      "cell_type": "code",
      "metadata": {
        "id": "AThDJtulq5f0"
      },
      "source": [
        "def weights_init(m):\r\n",
        "    \"\"\"\r\n",
        "    This function initializes the model weights randomly from a \r\n",
        "    Normal distribution. This follows the specification from the DCGAN paper.\r\n",
        "    https://arxiv.org/pdf/1511.06434.pdf\r\n",
        "    Source: https://pytorch.org/tutorials/beginner/dcgan_faces_tutorial.html\r\n",
        "    \"\"\"\r\n",
        "    classname = m.__class__.__name__\r\n",
        "    if classname.find('Conv') != -1:\r\n",
        "        nn.init.normal_(m.weight.data, 0.0, 0.02)\r\n",
        "    elif classname.find('BatchNorm') != -1:\r\n",
        "        nn.init.normal_(m.weight.data, 1.0, 0.02)\r\n",
        "        nn.init.constant_(m.bias.data, 0)"
      ],
      "execution_count": 8,
      "outputs": []
    },
    {
      "cell_type": "code",
      "metadata": {
        "id": "mOnPohAcq8d9"
      },
      "source": [
        "import torch\r\n",
        "import torch.nn as nn\r\n",
        "import torchvision.transforms as transforms\r\n",
        "import torch.optim as optim\r\n",
        "import torchvision.datasets as datasets\r\n",
        "import numpy as np\r\n",
        "import matplotlib\r\n",
        "\r\n",
        "from torch.utils.data import DataLoader\r\n",
        "from matplotlib import pyplot as plt\r\n",
        "from tqdm import tqdm\r\n",
        "matplotlib.style.use('ggplot')"
      ],
      "execution_count": 9,
      "outputs": []
    },
    {
      "cell_type": "code",
      "metadata": {
        "id": "NXJHHXYCrDQZ"
      },
      "source": [
        "image_size = 64 # we need to resize image to 64x64\r\n",
        "batch_size = 128\r\n",
        "nz = 100 # latent vector size\r\n",
        "beta1 = 0.5 # beta1 value for Adam optimizer\r\n",
        "lr = 0.0002 # learning rate according to paper\r\n",
        "sample_size = 64 # fixed sample size\r\n",
        "epochs = 25 # number of epoch to train\r\n",
        "# set the computation device\r\n",
        "device = torch.device('cuda' if torch.cuda.is_available() else 'cpu')"
      ],
      "execution_count": 10,
      "outputs": []
    },
    {
      "cell_type": "code",
      "metadata": {
        "id": "PZuIR7errGcp"
      },
      "source": [
        "transform = transforms.Compose([\r\n",
        "    transforms.Resize(image_size),\r\n",
        "    transforms.ToTensor(),\r\n",
        "    transforms.Normalize((0.5, 0.5, 0.5), \r\n",
        "    (0.5, 0.5, 0.5)),\r\n",
        "])"
      ],
      "execution_count": 11,
      "outputs": []
    },
    {
      "cell_type": "code",
      "metadata": {
        "colab": {
          "base_uri": "https://localhost:8080/",
          "height": 83,
          "referenced_widgets": [
            "c981e18e779649b59b0b067183aaef86",
            "ea53f41ca1974cb6b90cf3813710b76c",
            "ec840ff396e6465bbb1e16e5ed61aa73",
            "625a45f8bbe3487dbc8fd9ed5051dbfe",
            "6a7e4484e1004e0b912204143ad72b77",
            "e04b37c030df4cf699fbfb5295629026",
            "ee08cb7f8ff840d3aa4c55f89aa7f0a4",
            "32975c43e9ba4236ade04e5c2d02748a"
          ]
        },
        "id": "I9gqDCfOradk",
        "outputId": "ced65c13-ba34-4bb2-aa66-ab4fe58dc8cb"
      },
      "source": [
        "train_data = datasets.CIFAR10(\r\n",
        "    root='../input/data',\r\n",
        "    train=True,\r\n",
        "    download=True,\r\n",
        "    transform=transform\r\n",
        ")\r\n",
        "train_loader = DataLoader(train_data, batch_size=batch_size, shuffle=True)"
      ],
      "execution_count": 12,
      "outputs": [
        {
          "output_type": "stream",
          "text": [
            "Downloading https://www.cs.toronto.edu/~kriz/cifar-10-python.tar.gz to ../input/data/cifar-10-python.tar.gz\n"
          ],
          "name": "stdout"
        },
        {
          "output_type": "display_data",
          "data": {
            "application/vnd.jupyter.widget-view+json": {
              "model_id": "c981e18e779649b59b0b067183aaef86",
              "version_minor": 0,
              "version_major": 2
            },
            "text/plain": [
              "HBox(children=(FloatProgress(value=1.0, bar_style='info', max=1.0), HTML(value='')))"
            ]
          },
          "metadata": {
            "tags": []
          }
        },
        {
          "output_type": "stream",
          "text": [
            "Extracting ../input/data/cifar-10-python.tar.gz to ../input/data\n"
          ],
          "name": "stdout"
        }
      ]
    },
    {
      "cell_type": "code",
      "metadata": {
        "id": "LBPNmibyrdyB"
      },
      "source": [
        "generator = Generator(nz).to(device)\r\n",
        "discriminator = Discriminator().to(device) "
      ],
      "execution_count": 13,
      "outputs": []
    },
    {
      "cell_type": "code",
      "metadata": {
        "colab": {
          "base_uri": "https://localhost:8080/"
        },
        "id": "qbL0eIc7rgJT",
        "outputId": "a291cad5-688c-4c56-9bc1-afb73b1eb5b5"
      },
      "source": [
        "# initialize generator weights\r\n",
        "generator.apply(weights_init)\r\n",
        "# initialize discriminator weights\r\n",
        "discriminator.apply(weights_init)"
      ],
      "execution_count": 14,
      "outputs": [
        {
          "output_type": "execute_result",
          "data": {
            "text/plain": [
              "Discriminator(\n",
              "  (main): Sequential(\n",
              "    (0): Conv2d(3, 64, kernel_size=(4, 4), stride=(2, 2), padding=(1, 1), bias=False)\n",
              "    (1): LeakyReLU(negative_slope=0.2, inplace=True)\n",
              "    (2): Conv2d(64, 128, kernel_size=(4, 4), stride=(2, 2), padding=(1, 1), bias=False)\n",
              "    (3): BatchNorm2d(128, eps=1e-05, momentum=0.1, affine=True, track_running_stats=True)\n",
              "    (4): LeakyReLU(negative_slope=0.2, inplace=True)\n",
              "    (5): Conv2d(128, 256, kernel_size=(4, 4), stride=(2, 2), padding=(1, 1), bias=False)\n",
              "    (6): BatchNorm2d(256, eps=1e-05, momentum=0.1, affine=True, track_running_stats=True)\n",
              "    (7): LeakyReLU(negative_slope=0.2, inplace=True)\n",
              "    (8): Conv2d(256, 512, kernel_size=(4, 4), stride=(2, 2), padding=(1, 1), bias=False)\n",
              "    (9): BatchNorm2d(512, eps=1e-05, momentum=0.1, affine=True, track_running_stats=True)\n",
              "    (10): LeakyReLU(negative_slope=0.2, inplace=True)\n",
              "    (11): Conv2d(512, 1, kernel_size=(4, 4), stride=(1, 1), bias=False)\n",
              "    (12): Sigmoid()\n",
              "  )\n",
              ")"
            ]
          },
          "metadata": {
            "tags": []
          },
          "execution_count": 14
        }
      ]
    },
    {
      "cell_type": "code",
      "metadata": {
        "id": "GGqK5ozJri7u"
      },
      "source": [
        "optim_g = optim.Adam(generator.parameters(), lr=lr, betas=(beta1, 0.999))\r\n",
        "optim_d = optim.Adam(discriminator.parameters(), lr=lr, betas=(beta1, 0.999))\r\n",
        "# loss function\r\n",
        "criterion = nn.BCELoss()"
      ],
      "execution_count": 15,
      "outputs": []
    },
    {
      "cell_type": "code",
      "metadata": {
        "id": "RcyczFGWrl91"
      },
      "source": [
        "losses_g = [] # to store generator loss after each epoch\r\n",
        "losses_d = [] # to store discriminator loss after each epoch"
      ],
      "execution_count": 16,
      "outputs": []
    },
    {
      "cell_type": "code",
      "metadata": {
        "id": "U29QIv0Rro_T"
      },
      "source": [
        "def train_discriminator(optimizer, data_real, data_fake):\r\n",
        "    b_size = data_real.size(0)\r\n",
        "    # get the real label vector\r\n",
        "    real_label = label_real(b_size)\r\n",
        "    # get the fake label vector\r\n",
        "    fake_label = label_fake(b_size)\r\n",
        "    optimizer.zero_grad()\r\n",
        "    # get the outputs by doing real data forward pass\r\n",
        "    output_real = discriminator(data_real).view(-1, 1)\r\n",
        "\r\n",
        "    loss_real = criterion(output_real, real_label.view(-1,1))\r\n",
        "    # get the outputs by doing fake data forward pass\r\n",
        "    output_fake = discriminator(data_fake)\r\n",
        "    loss_fake = criterion(output_fake.view(-1,1,1,1), fake_label.view(-1,1,1,1))\r\n",
        "    # compute gradients of real loss \r\n",
        "    loss_real.backward()\r\n",
        "    # compute gradients of fake loss\r\n",
        "    loss_fake.backward()\r\n",
        "    # update discriminator parameters\r\n",
        "    optimizer.step()\r\n",
        "    return loss_real + loss_fake"
      ],
      "execution_count": 17,
      "outputs": []
    },
    {
      "cell_type": "code",
      "metadata": {
        "id": "9BBvi2yrrsL_"
      },
      "source": [
        "def train_generator(optimizer, data_fake):\r\n",
        "    b_size = data_fake.size(0)\r\n",
        "    # get the real label vector\r\n",
        "    real_label = label_real(b_size)\r\n",
        "    optimizer.zero_grad()\r\n",
        "    # output by doing a forward pass of the fake data through discriminator\r\n",
        "    output = discriminator(data_fake)\r\n",
        "    loss = criterion(output.view(-1,1), real_label.view(-1,1))\r\n",
        "    # compute gradients of loss\r\n",
        "    loss.backward()\r\n",
        "    # update generator parameters\r\n",
        "    optimizer.step()\r\n",
        "    return loss "
      ],
      "execution_count": 18,
      "outputs": []
    },
    {
      "cell_type": "code",
      "metadata": {
        "id": "kuJHoLFYrugX"
      },
      "source": [
        "noise = create_noise(sample_size, nz)"
      ],
      "execution_count": 19,
      "outputs": []
    },
    {
      "cell_type": "code",
      "metadata": {
        "colab": {
          "base_uri": "https://localhost:8080/"
        },
        "id": "ebOGz-yArxZb",
        "outputId": "43b235ef-1a24-40ef-e136-d764a633a821"
      },
      "source": [
        "generator.train()\r\n",
        "discriminator.train()"
      ],
      "execution_count": 20,
      "outputs": [
        {
          "output_type": "execute_result",
          "data": {
            "text/plain": [
              "Discriminator(\n",
              "  (main): Sequential(\n",
              "    (0): Conv2d(3, 64, kernel_size=(4, 4), stride=(2, 2), padding=(1, 1), bias=False)\n",
              "    (1): LeakyReLU(negative_slope=0.2, inplace=True)\n",
              "    (2): Conv2d(64, 128, kernel_size=(4, 4), stride=(2, 2), padding=(1, 1), bias=False)\n",
              "    (3): BatchNorm2d(128, eps=1e-05, momentum=0.1, affine=True, track_running_stats=True)\n",
              "    (4): LeakyReLU(negative_slope=0.2, inplace=True)\n",
              "    (5): Conv2d(128, 256, kernel_size=(4, 4), stride=(2, 2), padding=(1, 1), bias=False)\n",
              "    (6): BatchNorm2d(256, eps=1e-05, momentum=0.1, affine=True, track_running_stats=True)\n",
              "    (7): LeakyReLU(negative_slope=0.2, inplace=True)\n",
              "    (8): Conv2d(256, 512, kernel_size=(4, 4), stride=(2, 2), padding=(1, 1), bias=False)\n",
              "    (9): BatchNorm2d(512, eps=1e-05, momentum=0.1, affine=True, track_running_stats=True)\n",
              "    (10): LeakyReLU(negative_slope=0.2, inplace=True)\n",
              "    (11): Conv2d(512, 1, kernel_size=(4, 4), stride=(1, 1), bias=False)\n",
              "    (12): Sigmoid()\n",
              "  )\n",
              ")"
            ]
          },
          "metadata": {
            "tags": []
          },
          "execution_count": 20
        }
      ]
    },
    {
      "cell_type": "code",
      "metadata": {
        "colab": {
          "base_uri": "https://localhost:8080/"
        },
        "id": "z9KLed2Erz5K",
        "outputId": "e9ae6a84-071e-4cef-8607-dc6d2363d074"
      },
      "source": [
        "for epoch in range(20):\r\n",
        "    loss_g = 0.0\r\n",
        "    loss_d = 0.0\r\n",
        "    for bi, data in tqdm(enumerate(train_loader), total=int(len(train_data)/train_loader.batch_size)):\r\n",
        "        image, _ = data\r\n",
        "        image = image.to(device)\r\n",
        "        b_size = len(image)\r\n",
        "        # forward pass through generator to create fake data\r\n",
        "        data_fake = generator(create_noise(b_size, nz)).detach()\r\n",
        "        data_real = image\r\n",
        "        loss_d += train_discriminator(optim_d, data_real, data_fake)\r\n",
        "        data_fake = generator(create_noise(b_size, nz))\r\n",
        "        loss_g += train_generator(optim_g, data_fake)\r\n",
        "    # final forward pass through generator to create fake data...\r\n",
        "    # ...after training for current epoch\r\n",
        "    generated_img = generator(noise).cpu().detach()\r\n",
        "    # save the generated torch tensor models to disk\r\n",
        "    save_generator_image(generated_img, f\"gen_img{epoch}.png\")\r\n",
        "    epoch_loss_g = loss_g / bi # total generator loss for the epoch\r\n",
        "    epoch_loss_d = loss_d / bi # total discriminator loss for the epoch\r\n",
        "    losses_g.append(epoch_loss_g)\r\n",
        "    losses_d.append(epoch_loss_d)\r\n",
        "    print(f\"Epoch {epoch+1} of {epochs}\")\r\n",
        "    print(f\"Generator loss: {epoch_loss_g:.8f}, Discriminator loss: {epoch_loss_d:.8f}\")"
      ],
      "execution_count": 21,
      "outputs": [
        {
          "output_type": "stream",
          "text": [
            "391it [01:21,  4.83it/s]\n",
            "  0%|          | 1/390 [00:00<01:12,  5.39it/s]"
          ],
          "name": "stderr"
        },
        {
          "output_type": "stream",
          "text": [
            "Epoch 1 of 25\n",
            "Generator loss: 8.19159412, Discriminator loss: 0.42713144\n"
          ],
          "name": "stdout"
        },
        {
          "output_type": "stream",
          "text": [
            "391it [01:25,  4.58it/s]\n",
            "  0%|          | 1/390 [00:00<01:12,  5.35it/s]"
          ],
          "name": "stderr"
        },
        {
          "output_type": "stream",
          "text": [
            "Epoch 2 of 25\n",
            "Generator loss: 5.54022598, Discriminator loss: 0.53091568\n"
          ],
          "name": "stdout"
        },
        {
          "output_type": "stream",
          "text": [
            "391it [01:27,  4.48it/s]\n",
            "  0%|          | 0/390 [00:00<?, ?it/s]"
          ],
          "name": "stderr"
        },
        {
          "output_type": "stream",
          "text": [
            "Epoch 3 of 25\n",
            "Generator loss: 3.63583493, Discriminator loss: 0.65280151\n"
          ],
          "name": "stdout"
        },
        {
          "output_type": "stream",
          "text": [
            "391it [01:28,  4.41it/s]\n",
            "  0%|          | 1/390 [00:00<01:14,  5.24it/s]"
          ],
          "name": "stderr"
        },
        {
          "output_type": "stream",
          "text": [
            "Epoch 4 of 25\n",
            "Generator loss: 3.51597953, Discriminator loss: 0.66251576\n"
          ],
          "name": "stdout"
        },
        {
          "output_type": "stream",
          "text": [
            "391it [01:27,  4.45it/s]\n",
            "  0%|          | 1/390 [00:00<01:16,  5.09it/s]"
          ],
          "name": "stderr"
        },
        {
          "output_type": "stream",
          "text": [
            "Epoch 5 of 25\n",
            "Generator loss: 3.20359325, Discriminator loss: 0.68667841\n"
          ],
          "name": "stdout"
        },
        {
          "output_type": "stream",
          "text": [
            "391it [01:27,  4.47it/s]\n",
            "  0%|          | 0/390 [00:00<?, ?it/s]"
          ],
          "name": "stderr"
        },
        {
          "output_type": "stream",
          "text": [
            "Epoch 6 of 25\n",
            "Generator loss: 2.87921047, Discriminator loss: 0.73589349\n"
          ],
          "name": "stdout"
        },
        {
          "output_type": "stream",
          "text": [
            "391it [01:27,  4.47it/s]\n",
            "  0%|          | 1/390 [00:00<01:15,  5.16it/s]"
          ],
          "name": "stderr"
        },
        {
          "output_type": "stream",
          "text": [
            "Epoch 7 of 25\n",
            "Generator loss: 2.68480110, Discriminator loss: 0.81472021\n"
          ],
          "name": "stdout"
        },
        {
          "output_type": "stream",
          "text": [
            "391it [01:28,  4.44it/s]\n",
            "  0%|          | 0/390 [00:00<?, ?it/s]"
          ],
          "name": "stderr"
        },
        {
          "output_type": "stream",
          "text": [
            "Epoch 8 of 25\n",
            "Generator loss: 2.87128949, Discriminator loss: 0.72224522\n"
          ],
          "name": "stdout"
        },
        {
          "output_type": "stream",
          "text": [
            "391it [01:28,  4.41it/s]\n",
            "  0%|          | 1/390 [00:00<01:14,  5.23it/s]"
          ],
          "name": "stderr"
        },
        {
          "output_type": "stream",
          "text": [
            "Epoch 9 of 25\n",
            "Generator loss: 3.09438491, Discriminator loss: 0.78668201\n"
          ],
          "name": "stdout"
        },
        {
          "output_type": "stream",
          "text": [
            "391it [01:28,  4.43it/s]\n",
            "  0%|          | 1/390 [00:00<01:14,  5.23it/s]"
          ],
          "name": "stderr"
        },
        {
          "output_type": "stream",
          "text": [
            "Epoch 10 of 25\n",
            "Generator loss: 3.17283225, Discriminator loss: 0.68306488\n"
          ],
          "name": "stdout"
        },
        {
          "output_type": "stream",
          "text": [
            "391it [01:27,  4.46it/s]\n",
            "  0%|          | 1/390 [00:00<01:13,  5.30it/s]"
          ],
          "name": "stderr"
        },
        {
          "output_type": "stream",
          "text": [
            "Epoch 11 of 25\n",
            "Generator loss: 3.59215283, Discriminator loss: 0.56481379\n"
          ],
          "name": "stdout"
        },
        {
          "output_type": "stream",
          "text": [
            "391it [01:27,  4.48it/s]\n",
            "  0%|          | 1/390 [00:00<01:15,  5.18it/s]"
          ],
          "name": "stderr"
        },
        {
          "output_type": "stream",
          "text": [
            "Epoch 12 of 25\n",
            "Generator loss: 3.23040128, Discriminator loss: 0.64391226\n"
          ],
          "name": "stdout"
        },
        {
          "output_type": "stream",
          "text": [
            "391it [01:27,  4.47it/s]\n",
            "  0%|          | 1/390 [00:00<01:13,  5.28it/s]"
          ],
          "name": "stderr"
        },
        {
          "output_type": "stream",
          "text": [
            "Epoch 13 of 25\n",
            "Generator loss: 4.05233717, Discriminator loss: 0.51971674\n"
          ],
          "name": "stdout"
        },
        {
          "output_type": "stream",
          "text": [
            "391it [01:27,  4.45it/s]\n",
            "  0%|          | 1/390 [00:00<01:13,  5.26it/s]"
          ],
          "name": "stderr"
        },
        {
          "output_type": "stream",
          "text": [
            "Epoch 14 of 25\n",
            "Generator loss: 3.12379599, Discriminator loss: 0.68039602\n"
          ],
          "name": "stdout"
        },
        {
          "output_type": "stream",
          "text": [
            "391it [01:27,  4.45it/s]\n",
            "  0%|          | 1/390 [00:00<01:13,  5.32it/s]"
          ],
          "name": "stderr"
        },
        {
          "output_type": "stream",
          "text": [
            "Epoch 15 of 25\n",
            "Generator loss: 2.74659967, Discriminator loss: 0.72922051\n"
          ],
          "name": "stdout"
        },
        {
          "output_type": "stream",
          "text": [
            "391it [01:27,  4.45it/s]\n",
            "  0%|          | 1/390 [00:00<01:16,  5.06it/s]"
          ],
          "name": "stderr"
        },
        {
          "output_type": "stream",
          "text": [
            "Epoch 16 of 25\n",
            "Generator loss: 4.06292248, Discriminator loss: 0.48158076\n"
          ],
          "name": "stdout"
        },
        {
          "output_type": "stream",
          "text": [
            "391it [01:27,  4.45it/s]\n",
            "  0%|          | 1/390 [00:00<01:14,  5.19it/s]"
          ],
          "name": "stderr"
        },
        {
          "output_type": "stream",
          "text": [
            "Epoch 17 of 25\n",
            "Generator loss: 2.87803316, Discriminator loss: 0.69384462\n"
          ],
          "name": "stdout"
        },
        {
          "output_type": "stream",
          "text": [
            "391it [01:27,  4.45it/s]\n",
            "  0%|          | 1/390 [00:00<01:15,  5.16it/s]"
          ],
          "name": "stderr"
        },
        {
          "output_type": "stream",
          "text": [
            "Epoch 18 of 25\n",
            "Generator loss: 3.54879212, Discriminator loss: 0.60549945\n"
          ],
          "name": "stdout"
        },
        {
          "output_type": "stream",
          "text": [
            "391it [01:28,  4.43it/s]\n",
            "  0%|          | 1/390 [00:00<01:14,  5.25it/s]"
          ],
          "name": "stderr"
        },
        {
          "output_type": "stream",
          "text": [
            "Epoch 19 of 25\n",
            "Generator loss: 2.95217443, Discriminator loss: 0.74062699\n"
          ],
          "name": "stdout"
        },
        {
          "output_type": "stream",
          "text": [
            "391it [01:28,  4.43it/s]\n"
          ],
          "name": "stderr"
        },
        {
          "output_type": "stream",
          "text": [
            "Epoch 20 of 25\n",
            "Generator loss: 2.91714096, Discriminator loss: 0.68026030\n"
          ],
          "name": "stdout"
        }
      ]
    },
    {
      "cell_type": "code",
      "metadata": {
        "colab": {
          "base_uri": "https://localhost:8080/",
          "height": 282
        },
        "id": "iuAEin812msx",
        "outputId": "1863fcc9-e91a-4ed3-c582-46486d7840f7"
      },
      "source": [
        "plt.figure()\r\n",
        "plt.plot(losses_g, label='Generator loss')\r\n",
        "plt.plot(losses_d, label='Discriminator Loss')\r\n",
        "plt.legend()"
      ],
      "execution_count": 22,
      "outputs": [
        {
          "output_type": "execute_result",
          "data": {
            "text/plain": [
              "<matplotlib.legend.Legend at 0x7fc4fab4c210>"
            ]
          },
          "metadata": {
            "tags": []
          },
          "execution_count": 22
        },
        {
          "output_type": "display_data",
          "data": {
            "image/png": "[encoded data removed]",
            "text/plain": [
              "<Figure size 432x288 with 1 Axes>"
            ]
          },
          "metadata": {
            "tags": []
          }
        }
      ]
    }
  ]
}