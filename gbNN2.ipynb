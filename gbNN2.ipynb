{
  "nbformat": 4,
  "nbformat_minor": 0,
  "metadata": {
    "kernelspec": {
      "display_name": "Python 3",
      "language": "python",
      "name": "python3"
    },
    "language_info": {
      "codemirror_mode": {
        "name": "ipython",
        "version": 3
      },
      "file_extension": ".py",
      "mimetype": "text/x-python",
      "name": "python",
      "nbconvert_exporter": "python",
      "pygments_lexer": "ipython3",
      "version": "3.7.1"
    },
    "colab": {
      "name": "gbNN2.ipynb",
      "provenance": []
    }
  },
  "cells": [
    {
      "cell_type": "code",
      "metadata": {
        "id": "O6Q_rZVI0Hsi"
      },
      "source": [
        "import numpy as np \r\n",
        "import pandas as pd \r\n",
        "\r\n",
        "from keras.models import Sequential \r\n",
        "from keras.layers import Dense \r\n",
        "from keras.utils import to_categorical \r\n",
        "from keras.datasets import fashion_mnist \r\n",
        "from keras.metrics import Recall, Precision \r\n",
        "\r\n",
        "import matplotlib.pyplot as plt"
      ],
      "execution_count": 2,
      "outputs": []
    },
    {
      "cell_type": "code",
      "metadata": {
        "id": "ybngepvn0OPX"
      },
      "source": [
        "(train_images,train_labels),(test_images,test_labels)=fashion_mnist.load_data()"
      ],
      "execution_count": 3,
      "outputs": []
    },
    {
      "cell_type": "code",
      "metadata": {
        "id": "2xhE_1gl0Ucs"
      },
      "source": [
        "train_images = (train_images / 127) - 1\r\n",
        "test_images = (test_images / 127) - 1"
      ],
      "execution_count": 4,
      "outputs": []
    },
    {
      "cell_type": "code",
      "metadata": {
        "id": "-7Px63mm0XTN"
      },
      "source": [
        "train_images = train_images.reshape((-1, 784))\r\n",
        "test_images = test_images.reshape((-1, 784))"
      ],
      "execution_count": 5,
      "outputs": []
    },
    {
      "cell_type": "code",
      "metadata": {
        "id": "vBKXDKrh0dlj"
      },
      "source": [
        "y_t = to_categorical(train_labels)\r\n",
        "y_tt = to_categorical(test_labels)"
      ],
      "execution_count": 6,
      "outputs": []
    },
    {
      "cell_type": "markdown",
      "metadata": {
        "id": "jB9kBDfl-_QJ"
      },
      "source": [
        "## Разное количество нейронов в одном слое"
      ]
    },
    {
      "cell_type": "code",
      "metadata": {
        "id": "8fhGIC4b0saw"
      },
      "source": [
        "res_list = []\r\n",
        "for i in range(0, 12):\r\n",
        "\r\n",
        "  result = {}\r\n",
        "  model_neurons = Sequential([\r\n",
        "      Dense(2**i, activation='relu', input_shape=(784,)),\r\n",
        "      Dense(10, activation='softmax')\r\n",
        "  ])\r\n",
        "\r\n",
        "  model_neurons.compile(\r\n",
        "      optimizer='adam',\r\n",
        "      loss='categorical_crossentropy',\r\n",
        "      metrics=['accuracy']\r\n",
        "  )\r\n",
        "\r\n",
        "  model_neurons.fit(\r\n",
        "      train_images,\r\n",
        "      to_categorical(train_labels),\r\n",
        "      epochs=5,\r\n",
        "      batch_size=32, \r\n",
        "      validation_split=0.2,\r\n",
        "      verbose=0\r\n",
        "  )\r\n",
        "\r\n",
        "  result_train = model_neurons.evaluate(train_images, to_categorical(train_labels), verbose=0)\r\n",
        "  result_test = model_neurons.evaluate(test_images, to_categorical(test_labels), verbose=0)\r\n",
        "\r\n",
        "  result['n_neurons'] = 2**i\r\n",
        "  result['acc_train'] = np.round(result_train[1], 4)\r\n",
        "  result['acc_test'] = np.round(result_test[1], 4)\r\n",
        "\r\n",
        "  res_list.append(result)"
      ],
      "execution_count": 56,
      "outputs": []
    },
    {
      "cell_type": "code",
      "metadata": {
        "colab": {
          "base_uri": "https://localhost:8080/"
        },
        "id": "ouUyB-z-2W0A",
        "outputId": "5a69d2b7-fc39-4386-d2ff-d14b740a7f5a"
      },
      "source": [
        "from pprint import pprint\r\n",
        "pprint(res_list)"
      ],
      "execution_count": 57,
      "outputs": [
        {
          "output_type": "stream",
          "text": [
            "[{'acc_test': 0.3602, 'acc_train': 0.3699, 'n_neurons': 1},\n",
            " {'acc_test': 0.3638, 'acc_train': 0.3672, 'n_neurons': 2},\n",
            " {'acc_test': 0.8049, 'acc_train': 0.8172, 'n_neurons': 4},\n",
            " {'acc_test': 0.8171, 'acc_train': 0.8335, 'n_neurons': 8},\n",
            " {'acc_test': 0.8436, 'acc_train': 0.8623, 'n_neurons': 16},\n",
            " {'acc_test': 0.843, 'acc_train': 0.8651, 'n_neurons': 32},\n",
            " {'acc_test': 0.8603, 'acc_train': 0.8866, 'n_neurons': 64},\n",
            " {'acc_test': 0.8686, 'acc_train': 0.8915, 'n_neurons': 128},\n",
            " {'acc_test': 0.8695, 'acc_train': 0.896, 'n_neurons': 256},\n",
            " {'acc_test': 0.8679, 'acc_train': 0.8946, 'n_neurons': 512},\n",
            " {'acc_test': 0.8743, 'acc_train': 0.9002, 'n_neurons': 1024},\n",
            " {'acc_test': 0.8677, 'acc_train': 0.8931, 'n_neurons': 2048}]\n"
          ],
          "name": "stdout"
        }
      ]
    },
    {
      "cell_type": "markdown",
      "metadata": {
        "id": "bWMUyEgj4W7a"
      },
      "source": [
        "С ростом количества нейронов аккуратность сначала точность растёт, затем начинает падать. Пик аккуратности в районе от 128 до 512 нейронов. "
      ]
    },
    {
      "cell_type": "markdown",
      "metadata": {
        "id": "6PA3z086_Ims"
      },
      "source": [
        "## Разное количество слоёв с 256 нейронов."
      ]
    },
    {
      "cell_type": "code",
      "metadata": {
        "id": "J3buMT5B47oR"
      },
      "source": [
        "model_2l = Sequential([\r\n",
        "      Dense(256, activation='relu', input_shape=(784,)), \r\n",
        "      Dense(10, activation='softmax')\r\n",
        "  ])\r\n",
        "\r\n",
        "model_3l = Sequential([\r\n",
        "      Dense(256, activation='relu', input_shape=(784,)),\r\n",
        "      Dense(256, activation='relu'),\r\n",
        "      Dense(10, activation='softmax')\r\n",
        "  ]) \r\n",
        "\r\n",
        "model_5l = Sequential([\r\n",
        "      Dense(256, activation='relu', input_shape=(784,)),\r\n",
        "      Dense(256, activation='relu'),\r\n",
        "      Dense(256, activation='relu'),\r\n",
        "      Dense(256, activation='relu'),\r\n",
        "      Dense(10, activation='softmax')\r\n",
        "  ]) \r\n",
        "\r\n",
        "model_10l = Sequential([\r\n",
        "      Dense(256, activation='relu', input_shape=(784,)),\r\n",
        "      Dense(256, activation='relu'),\r\n",
        "      Dense(256, activation='relu'),\r\n",
        "      Dense(256, activation='relu'),\r\n",
        "      Dense(256, activation='relu'),\r\n",
        "      Dense(256, activation='relu'),\r\n",
        "      Dense(256, activation='relu'),\r\n",
        "      Dense(256, activation='relu'),\r\n",
        "      Dense(256, activation='relu'),\r\n",
        "      Dense(10, activation='softmax')\r\n",
        "  ])"
      ],
      "execution_count": 58,
      "outputs": []
    },
    {
      "cell_type": "code",
      "metadata": {
        "colab": {
          "base_uri": "https://localhost:8080/"
        },
        "id": "2uiot6n25PXM",
        "outputId": "0331b94f-ecd4-413f-dd80-77bfcf050501"
      },
      "source": [
        "res_list = []\r\n",
        "l = [2, 3, 5, 10]\r\n",
        "i = 0\r\n",
        "for model in (model_2l, model_3l, model_5l, model_10l):\r\n",
        "\r\n",
        "  result = {}\r\n",
        "\r\n",
        "  model.summary()\r\n",
        "\r\n",
        "  model.compile(\r\n",
        "      optimizer='adam',\r\n",
        "      loss='categorical_crossentropy',\r\n",
        "      metrics=['accuracy']\r\n",
        "  )\r\n",
        "\r\n",
        "  model.fit(\r\n",
        "      train_images,\r\n",
        "      to_categorical(train_labels),\r\n",
        "      epochs=5,\r\n",
        "      batch_size=32, \r\n",
        "      validation_split=0.2,\r\n",
        "      verbose=0\r\n",
        "  )\r\n",
        "\r\n",
        "  result_train = model.evaluate(train_images, to_categorical(train_labels), verbose=0)\r\n",
        "  result_test = model.evaluate(test_images, to_categorical(test_labels), verbose=0)\r\n",
        "\r\n",
        "  result['n_layers'] = l[i]\r\n",
        "  i += 1\r\n",
        "  result['acc_train'] = np.round(result_train[1], 4)\r\n",
        "  result['acc_test'] = np.round(result_test[1], 4)\r\n",
        "\r\n",
        "  res_list.append(result)"
      ],
      "execution_count": 59,
      "outputs": [
        {
          "output_type": "stream",
          "text": [
            "Model: \"sequential_68\"\n",
            "_________________________________________________________________\n",
            "Layer (type)                 Output Shape              Param #   \n",
            "=================================================================\n",
            "dense_184 (Dense)            (None, 256)               200960    \n",
            "_________________________________________________________________\n",
            "dense_185 (Dense)            (None, 10)                2570      \n",
            "=================================================================\n",
            "Total params: 203,530\n",
            "Trainable params: 203,530\n",
            "Non-trainable params: 0\n",
            "_________________________________________________________________\n",
            "Model: \"sequential_69\"\n",
            "_________________________________________________________________\n",
            "Layer (type)                 Output Shape              Param #   \n",
            "=================================================================\n",
            "dense_186 (Dense)            (None, 256)               200960    \n",
            "_________________________________________________________________\n",
            "dense_187 (Dense)            (None, 256)               65792     \n",
            "_________________________________________________________________\n",
            "dense_188 (Dense)            (None, 10)                2570      \n",
            "=================================================================\n",
            "Total params: 269,322\n",
            "Trainable params: 269,322\n",
            "Non-trainable params: 0\n",
            "_________________________________________________________________\n",
            "Model: \"sequential_70\"\n",
            "_________________________________________________________________\n",
            "Layer (type)                 Output Shape              Param #   \n",
            "=================================================================\n",
            "dense_189 (Dense)            (None, 256)               200960    \n",
            "_________________________________________________________________\n",
            "dense_190 (Dense)            (None, 256)               65792     \n",
            "_________________________________________________________________\n",
            "dense_191 (Dense)            (None, 256)               65792     \n",
            "_________________________________________________________________\n",
            "dense_192 (Dense)            (None, 256)               65792     \n",
            "_________________________________________________________________\n",
            "dense_193 (Dense)            (None, 10)                2570      \n",
            "=================================================================\n",
            "Total params: 400,906\n",
            "Trainable params: 400,906\n",
            "Non-trainable params: 0\n",
            "_________________________________________________________________\n",
            "Model: \"sequential_71\"\n",
            "_________________________________________________________________\n",
            "Layer (type)                 Output Shape              Param #   \n",
            "=================================================================\n",
            "dense_194 (Dense)            (None, 256)               200960    \n",
            "_________________________________________________________________\n",
            "dense_195 (Dense)            (None, 256)               65792     \n",
            "_________________________________________________________________\n",
            "dense_196 (Dense)            (None, 256)               65792     \n",
            "_________________________________________________________________\n",
            "dense_197 (Dense)            (None, 256)               65792     \n",
            "_________________________________________________________________\n",
            "dense_198 (Dense)            (None, 256)               65792     \n",
            "_________________________________________________________________\n",
            "dense_199 (Dense)            (None, 256)               65792     \n",
            "_________________________________________________________________\n",
            "dense_200 (Dense)            (None, 256)               65792     \n",
            "_________________________________________________________________\n",
            "dense_201 (Dense)            (None, 256)               65792     \n",
            "_________________________________________________________________\n",
            "dense_202 (Dense)            (None, 256)               65792     \n",
            "_________________________________________________________________\n",
            "dense_203 (Dense)            (None, 10)                2570      \n",
            "=================================================================\n",
            "Total params: 729,866\n",
            "Trainable params: 729,866\n",
            "Non-trainable params: 0\n",
            "_________________________________________________________________\n"
          ],
          "name": "stdout"
        }
      ]
    },
    {
      "cell_type": "code",
      "metadata": {
        "colab": {
          "base_uri": "https://localhost:8080/"
        },
        "id": "bfL0N9Pf66KK",
        "outputId": "e2aff961-0127-4a88-9d22-5a07e3e1decf"
      },
      "source": [
        "from pprint import pprint\r\n",
        "pprint(res_list)"
      ],
      "execution_count": 60,
      "outputs": [
        {
          "output_type": "stream",
          "text": [
            "[{'acc_test': 0.8663, 'acc_train': 0.8929, 'n_layers': 2},\n",
            " {'acc_test': 0.8681, 'acc_train': 0.8926, 'n_layers': 3},\n",
            " {'acc_test': 0.8644, 'acc_train': 0.8884, 'n_layers': 5},\n",
            " {'acc_test': 0.8552, 'acc_train': 0.8748, 'n_layers': 10}]\n"
          ],
          "name": "stdout"
        }
      ]
    },
    {
      "cell_type": "markdown",
      "metadata": {
        "id": "HPHSwgZJ8IjB"
      },
      "source": [
        "На двух слоях точность выше, чем на одном, дальше падает."
      ]
    },
    {
      "cell_type": "markdown",
      "metadata": {
        "id": "Nv1dmgB8_NZV"
      },
      "source": [
        "## Разное количество слоёв, примерно одно и тоже количество параметров"
      ]
    },
    {
      "cell_type": "code",
      "metadata": {
        "id": "L0TDjQgA8P5j"
      },
      "source": [
        "model_2l = Sequential([\r\n",
        "      Dense(256, activation='relu', input_shape=(784,)), \r\n",
        "      Dense(10, activation='softmax')\r\n",
        "  ])\r\n",
        "\r\n",
        "model_3l = Sequential([\r\n",
        "      Dense(222, activation='relu', input_shape=(784,)),\r\n",
        "      Dense(222, activation='relu'),\r\n",
        "      Dense(10, activation='softmax')\r\n",
        "  ]) \r\n",
        "\r\n",
        "model_5l = Sequential([\r\n",
        "      Dense(164, activation='relu', input_shape=(784,)),\r\n",
        "      Dense(164, activation='relu'),\r\n",
        "      Dense(164, activation='relu'),\r\n",
        "      Dense(164, activation='relu'),\r\n",
        "      Dense(10, activation='softmax')\r\n",
        "  ]) \r\n",
        "\r\n",
        "model_10l = Sequential([\r\n",
        "      Dense(128, activation='relu', input_shape=(784,)),\r\n",
        "      Dense(128, activation='relu'),\r\n",
        "      Dense(128, activation='relu'),\r\n",
        "      Dense(128, activation='relu'),\r\n",
        "      Dense(128, activation='relu'),\r\n",
        "      Dense(128, activation='relu'),\r\n",
        "      Dense(128, activation='relu'),\r\n",
        "      Dense(128, activation='relu'),\r\n",
        "      Dense(128, activation='relu'),\r\n",
        "      Dense(10, activation='softmax')\r\n",
        "  ])"
      ],
      "execution_count": 61,
      "outputs": []
    },
    {
      "cell_type": "code",
      "metadata": {
        "colab": {
          "base_uri": "https://localhost:8080/"
        },
        "id": "vrr-Efwf9YZs",
        "outputId": "35ba8610-b32a-4ed7-afa5-6aaaab22849e"
      },
      "source": [
        "res_list = []\r\n",
        "l = [2, 3, 5, 10]\r\n",
        "i = 0\r\n",
        "for model in (model_2l, model_3l, model_5l, model_10l):\r\n",
        "\r\n",
        "  result = {}\r\n",
        "\r\n",
        "  model.summary()\r\n",
        "\r\n",
        "  model.compile(\r\n",
        "      optimizer='adam',\r\n",
        "      loss='categorical_crossentropy',\r\n",
        "      metrics=['accuracy']\r\n",
        "  )\r\n",
        "\r\n",
        "  model.fit(\r\n",
        "      train_images,\r\n",
        "      to_categorical(train_labels),\r\n",
        "      epochs=5,\r\n",
        "      batch_size=32, \r\n",
        "      validation_split=0.2,\r\n",
        "      verbose=0\r\n",
        "  )\r\n",
        "\r\n",
        "  result_train = model.evaluate(train_images, to_categorical(train_labels), verbose=0)\r\n",
        "  result_test = model.evaluate(test_images, to_categorical(test_labels), verbose=0)\r\n",
        "\r\n",
        "  result['n_layers'] = l[i]\r\n",
        "  i += 1\r\n",
        "  result['acc_train'] = np.round(result_train[1], 4)\r\n",
        "  result['acc_test'] = np.round(result_test[1], 4)\r\n",
        "\r\n",
        "  res_list.append(result)"
      ],
      "execution_count": 62,
      "outputs": [
        {
          "output_type": "stream",
          "text": [
            "Model: \"sequential_72\"\n",
            "_________________________________________________________________\n",
            "Layer (type)                 Output Shape              Param #   \n",
            "=================================================================\n",
            "dense_204 (Dense)            (None, 256)               200960    \n",
            "_________________________________________________________________\n",
            "dense_205 (Dense)            (None, 10)                2570      \n",
            "=================================================================\n",
            "Total params: 203,530\n",
            "Trainable params: 203,530\n",
            "Non-trainable params: 0\n",
            "_________________________________________________________________\n",
            "Model: \"sequential_73\"\n",
            "_________________________________________________________________\n",
            "Layer (type)                 Output Shape              Param #   \n",
            "=================================================================\n",
            "dense_206 (Dense)            (None, 222)               174270    \n",
            "_________________________________________________________________\n",
            "dense_207 (Dense)            (None, 222)               49506     \n",
            "_________________________________________________________________\n",
            "dense_208 (Dense)            (None, 10)                2230      \n",
            "=================================================================\n",
            "Total params: 226,006\n",
            "Trainable params: 226,006\n",
            "Non-trainable params: 0\n",
            "_________________________________________________________________\n",
            "Model: \"sequential_74\"\n",
            "_________________________________________________________________\n",
            "Layer (type)                 Output Shape              Param #   \n",
            "=================================================================\n",
            "dense_209 (Dense)            (None, 164)               128740    \n",
            "_________________________________________________________________\n",
            "dense_210 (Dense)            (None, 164)               27060     \n",
            "_________________________________________________________________\n",
            "dense_211 (Dense)            (None, 164)               27060     \n",
            "_________________________________________________________________\n",
            "dense_212 (Dense)            (None, 164)               27060     \n",
            "_________________________________________________________________\n",
            "dense_213 (Dense)            (None, 10)                1650      \n",
            "=================================================================\n",
            "Total params: 211,570\n",
            "Trainable params: 211,570\n",
            "Non-trainable params: 0\n",
            "_________________________________________________________________\n",
            "Model: \"sequential_75\"\n",
            "_________________________________________________________________\n",
            "Layer (type)                 Output Shape              Param #   \n",
            "=================================================================\n",
            "dense_214 (Dense)            (None, 128)               100480    \n",
            "_________________________________________________________________\n",
            "dense_215 (Dense)            (None, 128)               16512     \n",
            "_________________________________________________________________\n",
            "dense_216 (Dense)            (None, 128)               16512     \n",
            "_________________________________________________________________\n",
            "dense_217 (Dense)            (None, 128)               16512     \n",
            "_________________________________________________________________\n",
            "dense_218 (Dense)            (None, 128)               16512     \n",
            "_________________________________________________________________\n",
            "dense_219 (Dense)            (None, 128)               16512     \n",
            "_________________________________________________________________\n",
            "dense_220 (Dense)            (None, 128)               16512     \n",
            "_________________________________________________________________\n",
            "dense_221 (Dense)            (None, 128)               16512     \n",
            "_________________________________________________________________\n",
            "dense_222 (Dense)            (None, 128)               16512     \n",
            "_________________________________________________________________\n",
            "dense_223 (Dense)            (None, 10)                1290      \n",
            "=================================================================\n",
            "Total params: 233,866\n",
            "Trainable params: 233,866\n",
            "Non-trainable params: 0\n",
            "_________________________________________________________________\n"
          ],
          "name": "stdout"
        }
      ]
    },
    {
      "cell_type": "code",
      "metadata": {
        "colab": {
          "base_uri": "https://localhost:8080/"
        },
        "id": "wdvLCaLk-2Fg",
        "outputId": "d5589600-c38d-4dab-c1eb-3a3423449fdf"
      },
      "source": [
        "from pprint import pprint\r\n",
        "pprint(res_list)"
      ],
      "execution_count": 63,
      "outputs": [
        {
          "output_type": "stream",
          "text": [
            "[{'acc_test': 0.8651, 'acc_train': 0.889, 'n_layers': 2},\n",
            " {'acc_test': 0.8684, 'acc_train': 0.8932, 'n_layers': 3},\n",
            " {'acc_test': 0.8652, 'acc_train': 0.8891, 'n_layers': 5},\n",
            " {'acc_test': 0.8361, 'acc_train': 0.8616, 'n_layers': 10}]\n"
          ],
          "name": "stdout"
        }
      ]
    },
    {
      "cell_type": "markdown",
      "metadata": {
        "id": "tqGhLWfU-1Mj"
      },
      "source": [
        "При одинаковои числе параметров точность быстро падает. "
      ]
    },
    {
      "cell_type": "markdown",
      "metadata": {
        "id": "2r-REzTh_amr"
      },
      "source": [
        "## Тестируем разные оптимизаторы"
      ]
    },
    {
      "cell_type": "code",
      "metadata": {
        "id": "omFygKu__cMV"
      },
      "source": [
        "res_list = []\r\n",
        "\r\n",
        "for opt in ['SGD', 'Adam', 'RMSProp']:\r\n",
        "\r\n",
        "  result = {}\r\n",
        "\r\n",
        "  model_opti = Sequential([\r\n",
        "      Dense(256, activation='relu', input_shape=(784,)), \r\n",
        "      Dense(10, activation='softmax')\r\n",
        "  ])\r\n",
        "\r\n",
        "  model_opti.compile(\r\n",
        "      optimizer=opt,\r\n",
        "      loss='categorical_crossentropy',\r\n",
        "      metrics=['accuracy']\r\n",
        "  )\r\n",
        "\r\n",
        "  model_opti.fit(\r\n",
        "      train_images,\r\n",
        "      to_categorical(train_labels),\r\n",
        "      epochs=5,\r\n",
        "      batch_size=32, \r\n",
        "      validation_split=0.2,\r\n",
        "      verbose=0\r\n",
        "  )\r\n",
        "\r\n",
        "  result_train = model_opti.evaluate(train_images, to_categorical(train_labels), verbose=0)\r\n",
        "  result_test = model_opti.evaluate(test_images, to_categorical(test_labels), verbose=0)\r\n",
        "\r\n",
        "  result['opt'] = opt\r\n",
        "  i += 1\r\n",
        "  result['acc_train'] = np.round(result_train[1], 4)\r\n",
        "  result['acc_test'] = np.round(result_test[1], 4)\r\n",
        "\r\n",
        "  res_list.append(result)"
      ],
      "execution_count": 64,
      "outputs": []
    },
    {
      "cell_type": "code",
      "metadata": {
        "colab": {
          "base_uri": "https://localhost:8080/"
        },
        "id": "tdZhWTo1AGVx",
        "outputId": "333da18e-a8d1-49d2-b3e1-ed86f19639aa"
      },
      "source": [
        "from pprint import pprint\r\n",
        "pprint(res_list)"
      ],
      "execution_count": 65,
      "outputs": [
        {
          "output_type": "stream",
          "text": [
            "[{'acc_test': 0.8554, 'acc_train': 0.8741, 'opt': 'SGD'},\n",
            " {'acc_test': 0.8607, 'acc_train': 0.8902, 'opt': 'Adam'},\n",
            " {'acc_test': 0.8677, 'acc_train': 0.8971, 'opt': 'RMSProp'}]\n"
          ],
          "name": "stdout"
        }
      ]
    },
    {
      "cell_type": "markdown",
      "metadata": {
        "id": "vT8P2SPTF4C6"
      },
      "source": [
        "Adam справляет чуть лучше RMSProp"
      ]
    },
    {
      "cell_type": "markdown",
      "metadata": {
        "id": "4FfAfjgUF_nt"
      },
      "source": [
        "## Выводы \r\n",
        "\r\n",
        "На кчество влияет оптимальное число слоёв и нейронов. Функции активации тоже, но её я не тестировал, это и так очевидно. "
      ]
    },
    {
      "cell_type": "markdown",
      "metadata": {
        "id": "AnPfTPITGfEj"
      },
      "source": [
        "## Классы"
      ]
    },
    {
      "cell_type": "code",
      "metadata": {
        "colab": {
          "base_uri": "https://localhost:8080/"
        },
        "id": "3n9nSAGwGh40",
        "outputId": "f6dd8362-3f3a-4cb3-80ae-03f4bed6a2a4"
      },
      "source": [
        "model_opti = Sequential([\r\n",
        "      Dense(256, activation='relu', input_shape=(784,)), \r\n",
        "      Dense(10, activation='softmax')\r\n",
        "  ])\r\n",
        "\r\n",
        "model_opti.compile(\r\n",
        "      optimizer=opt,\r\n",
        "      loss='categorical_crossentropy',\r\n",
        "      metrics=['accuracy']\r\n",
        "  )\r\n",
        "\r\n",
        "model_opti.fit(\r\n",
        "      train_images,\r\n",
        "      to_categorical(train_labels),\r\n",
        "      epochs=5,\r\n",
        "      batch_size=32, \r\n",
        "      validation_split=0.2,\r\n",
        "      verbose=0\r\n",
        "  )"
      ],
      "execution_count": 51,
      "outputs": [
        {
          "output_type": "execute_result",
          "data": {
            "text/plain": [
              "<tensorflow.python.keras.callbacks.History at 0x7efc45341cc0>"
            ]
          },
          "metadata": {
            "tags": []
          },
          "execution_count": 51
        }
      ]
    },
    {
      "cell_type": "code",
      "metadata": {
        "id": "f-BATH29G3Hs"
      },
      "source": [
        "predictions = model_2l.predict(test_images)\r\n",
        "\r\n",
        "# Print our model's predictions.\r\n",
        "test_labels_predict = np.argmax(predictions, axis=1)"
      ],
      "execution_count": 53,
      "outputs": []
    },
    {
      "cell_type": "code",
      "metadata": {
        "colab": {
          "base_uri": "https://localhost:8080/",
          "height": 343
        },
        "id": "f9yOb5UlGxT9",
        "outputId": "50d7d753-8299-4d5d-aacc-86984e70cc2e"
      },
      "source": [
        "labels = np.unique(train_labels)\r\n",
        "df = pd.DataFrame(columns=['recall', 'precision'], index=range(10))\r\n",
        "\r\n",
        "for i in labels:\r\n",
        "  recall = Recall()\r\n",
        "  recall.update_state(y_true=(test_labels == i), \r\n",
        "                      y_pred=(test_labels_predict == i))\r\n",
        "  df.loc[i, 'recall'] = recall.result().numpy()\r\n",
        "\r\n",
        "  precision = Precision()\r\n",
        "  precision.update_state(y_true=(test_labels == i), \r\n",
        "                         y_pred=(test_labels_predict == i))\r\n",
        "  df.loc[i, 'precision'] = precision.result().numpy()\r\n",
        "\r\n",
        "  df.loc[i, 'F'] = 2*recall.result().numpy()*precision.result().numpy()/(precision.result().numpy()+recall.result().numpy())\r\n",
        "\r\n",
        "df.index = ['T-shirt/top', 'Trouser', 'Pullover', 'Dress', 'Coat', 'Sandal', 'Shirt', 'Sneaker', 'Bag', 'Ankle boot']\r\n",
        "\r\n",
        "df"
      ],
      "execution_count": 55,
      "outputs": [
        {
          "output_type": "execute_result",
          "data": {
            "text/html": [
              "<div>\n",
              "<style scoped>\n",
              "    .dataframe tbody tr th:only-of-type {\n",
              "        vertical-align: middle;\n",
              "    }\n",
              "\n",
              "    .dataframe tbody tr th {\n",
              "        vertical-align: top;\n",
              "    }\n",
              "\n",
              "    .dataframe thead th {\n",
              "        text-align: right;\n",
              "    }\n",
              "</style>\n",
              "<table border=\"1\" class=\"dataframe\">\n",
              "  <thead>\n",
              "    <tr style=\"text-align: right;\">\n",
              "      <th></th>\n",
              "      <th>recall</th>\n",
              "      <th>precision</th>\n",
              "      <th>F</th>\n",
              "    </tr>\n",
              "  </thead>\n",
              "  <tbody>\n",
              "    <tr>\n",
              "      <th>T-shirt/top</th>\n",
              "      <td>0.807</td>\n",
              "      <td>0.838006</td>\n",
              "      <td>0.822211</td>\n",
              "    </tr>\n",
              "    <tr>\n",
              "      <th>Trouser</th>\n",
              "      <td>0.976</td>\n",
              "      <td>0.935762</td>\n",
              "      <td>0.955458</td>\n",
              "    </tr>\n",
              "    <tr>\n",
              "      <th>Pullover</th>\n",
              "      <td>0.807</td>\n",
              "      <td>0.741728</td>\n",
              "      <td>0.772988</td>\n",
              "    </tr>\n",
              "    <tr>\n",
              "      <th>Dress</th>\n",
              "      <td>0.865</td>\n",
              "      <td>0.866733</td>\n",
              "      <td>0.865866</td>\n",
              "    </tr>\n",
              "    <tr>\n",
              "      <th>Coat</th>\n",
              "      <td>0.833</td>\n",
              "      <td>0.778505</td>\n",
              "      <td>0.804831</td>\n",
              "    </tr>\n",
              "    <tr>\n",
              "      <th>Sandal</th>\n",
              "      <td>0.93</td>\n",
              "      <td>0.963731</td>\n",
              "      <td>0.946565</td>\n",
              "    </tr>\n",
              "    <tr>\n",
              "      <th>Shirt</th>\n",
              "      <td>0.62</td>\n",
              "      <td>0.740741</td>\n",
              "      <td>0.675014</td>\n",
              "    </tr>\n",
              "    <tr>\n",
              "      <th>Sneaker</th>\n",
              "      <td>0.898</td>\n",
              "      <td>0.943277</td>\n",
              "      <td>0.920082</td>\n",
              "    </tr>\n",
              "    <tr>\n",
              "      <th>Bag</th>\n",
              "      <td>0.97</td>\n",
              "      <td>0.965174</td>\n",
              "      <td>0.967581</td>\n",
              "    </tr>\n",
              "    <tr>\n",
              "      <th>Ankle boot</th>\n",
              "      <td>0.971</td>\n",
              "      <td>0.899907</td>\n",
              "      <td>0.934103</td>\n",
              "    </tr>\n",
              "  </tbody>\n",
              "</table>\n",
              "</div>"
            ],
            "text/plain": [
              "            recall precision         F\n",
              "T-shirt/top  0.807  0.838006  0.822211\n",
              "Trouser      0.976  0.935762  0.955458\n",
              "Pullover     0.807  0.741728  0.772988\n",
              "Dress        0.865  0.866733  0.865866\n",
              "Coat         0.833  0.778505  0.804831\n",
              "Sandal        0.93  0.963731  0.946565\n",
              "Shirt         0.62  0.740741  0.675014\n",
              "Sneaker      0.898  0.943277  0.920082\n",
              "Bag           0.97  0.965174  0.967581\n",
              "Ankle boot   0.971  0.899907  0.934103"
            ]
          },
          "metadata": {
            "tags": []
          },
          "execution_count": 55
        }
      ]
    }
  ]
}