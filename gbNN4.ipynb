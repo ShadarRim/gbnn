{
  "nbformat": 4,
  "nbformat_minor": 0,
  "metadata": {
    "kernelspec": {
      "name": "python3",
      "display_name": "Python 3"
    },
    "language_info": {
      "codemirror_mode": {
        "name": "ipython",
        "version": 3
      },
      "file_extension": ".py",
      "mimetype": "text/x-python",
      "name": "python",
      "nbconvert_exporter": "python",
      "pygments_lexer": "ipython3",
      "version": "3.7.3"
    },
    "colab": {
      "name": "gbNN4",
      "provenance": [],
      "collapsed_sections": []
    },
    "accelerator": "GPU"
  },
  "cells": [
    {
      "cell_type": "code",
      "metadata": {
        "id": "OmJ8o0_tMnkp"
      },
      "source": [
        "from tensorflow.keras.models import Sequential\r\n",
        "from tensorflow.keras import models, layers\r\n",
        "import tensorflow.keras as keras\r\n",
        "from tensorflow.keras.datasets import fashion_mnist\r\n",
        "from tensorflow.keras.utils import to_categorical"
      ],
      "execution_count": 3,
      "outputs": []
    },
    {
      "cell_type": "code",
      "metadata": {
        "id": "PdX4riMptTXy"
      },
      "source": [
        "\r\n",
        "\r\n",
        "# загрузка тренировочных и тестовых данных\r\n",
        "(x_train, y_train), (x_test, y_test) = fashion_mnist.load_data()\r\n",
        "\r\n",
        "# конвертация чисел из uint8 в float32\r\n",
        "x_train = x_train.astype('float32')\r\n",
        "x_test = x_test.astype('float32')\r\n",
        "\r\n",
        "# нормализация данных [0, 1]\r\n",
        "x_train /= 255 \r\n",
        "x_test /= 255 \r\n",
        "\r\n",
        "# трансформация лейблов в one-hot encoding\r\n",
        "y_train = to_categorical(y_train, 10) \r\n",
        "y_test = to_categorical(y_test, 10) \r\n",
        "\r\n",
        "# изменение размерности массива в 4D массив\r\n",
        "x_train = x_train.reshape(x_train.shape[0], 28,28,1)\r\n",
        "x_test = x_test.reshape(x_test.shape[0], 28,28,1)"
      ],
      "execution_count": 4,
      "outputs": []
    },
    {
      "cell_type": "code",
      "metadata": {
        "id": "q_1hNBrl2enw",
        "colab": {
          "base_uri": "https://localhost:8080/"
        },
        "outputId": "83131c72-25cd-4c16-e376-7a6f98998e1a"
      },
      "source": [
        "from tensorflow.keras.models import Model \n",
        "# инициализация  модели\n",
        "input1= layers.Input(shape=(28,28,1))\n",
        "# первый сверточный слой\n",
        "x1 = layers.Conv2D(6, kernel_size=(5, 5), strides=(1, 1), activation='tanh',  padding=\"same\")(input1)\n",
        "\n",
        "# второй пуллинговый слой\n",
        "x2 = layers.AveragePooling2D(pool_size=(2, 2), strides=(1, 1), padding='valid')(x1)\n",
        "\n",
        "# третий сверточный слой\n",
        "x3 = layers.Conv2D(16, kernel_size=(5, 5), strides=(1, 1), activation='tanh', padding='valid')(x2)\n",
        "\n",
        "# четвертый пуллинговый слой\n",
        "x4 = layers.AveragePooling2D(pool_size=(2, 2), strides=(2, 2), padding='valid')(x3)\n",
        "\n",
        "# пятый  слой\n",
        "x5 = layers.Conv2D(120, kernel_size=(5, 5), strides=(1, 1), activation='tanh', padding='valid')(x4)\n",
        "\n",
        "# сглаживание CNN выхода чтобы можно было его присоединить к полносвязногому слою\n",
        "x6 = layers.Flatten()(x5)\n",
        "\n",
        "# шестой полносвязный слой\n",
        "x7 = layers.Dense(84, activation='tanh')(x6)\n",
        "\n",
        "# выходной слой с функцией активации softmax\n",
        "out_x = layers.Dense(10, activation='softmax')(x7)\n",
        "\n",
        "\n",
        "# Соберем полную модель сети от входа к выходу \n",
        "model1 = Model(inputs = input1, outputs = out_x) \n",
        "# сделаем несколько промежуточных выходов (через них посмотрим , что происходит в сети) \n",
        "model3 = Model(inputs = input1, outputs = x3)\n",
        "model5 = Model(inputs = input1, outputs = x5)\n",
        "# компилияция модели\n",
        "model1.compile(loss=keras.losses.categorical_crossentropy, optimizer='SGD', metrics=[\"accuracy\"])\n",
        "\n",
        "# Обучаем модель\n",
        "hist = model1.fit(x=x_train,y=y_train, epochs=2, batch_size=128, validation_data=(x_test, y_test), verbose=1)\n",
        "\n",
        "test_score = model1.evaluate(x_test, y_test)\n",
        "print(\"Test loss {:.4f}, accuracy {:.2f}%\".format(test_score[0], test_score[1] * 100))"
      ],
      "execution_count": 5,
      "outputs": [
        {
          "output_type": "stream",
          "text": [
            "Epoch 1/2\n",
            "469/469 [==============================] - 11s 10ms/step - loss: 1.3202 - accuracy: 0.5653 - val_loss: 0.7169 - val_accuracy: 0.7241\n",
            "Epoch 2/2\n",
            "469/469 [==============================] - 4s 9ms/step - loss: 0.6489 - accuracy: 0.7599 - val_loss: 0.6057 - val_accuracy: 0.7771\n",
            "313/313 [==============================] - 1s 3ms/step - loss: 0.6057 - accuracy: 0.7771\n",
            "Test loss 0.6057, accuracy 77.71%\n"
          ],
          "name": "stdout"
        }
      ]
    },
    {
      "cell_type": "markdown",
      "metadata": {
        "id": "GDmXFo6hNZNt"
      },
      "source": [
        "Вариант 1. (простой)\r\n",
        "\r\n",
        "- обучить сверточную нейронную сеть в стиле AlexNet (с падением размера ядра свертки и последовательностью блоков свертка-пулинг  (conv-pool)-(conv-pool)-...) на датасете fashion-mnist\r\n",
        "- оценить рост точности при увеличении ширины сети (больше ядер)\r\n",
        "- оценить рост точности при увеличении глубины сети (больше слоев)\r\n",
        "- сравнить с точностью полносвязной сети для этой выборки\r\n",
        "    </li>"
      ]
    }
  ]
}