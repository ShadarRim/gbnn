{
  "nbformat": 4,
  "nbformat_minor": 0,
  "metadata": {
    "colab": {
      "name": "gan.ipynb",
      "provenance": []
    },
    "kernelspec": {
      "name": "python3",
      "display_name": "Python 3"
    },
    "accelerator": "GPU"
  },
  "cells": [
    {
      "cell_type": "code",
      "metadata": {
        "id": "WIGNa_7rFoLj"
      },
      "source": [
        "import os\r\n",
        "import numpy as np\r\n",
        "import math\r\n",
        "\r\n",
        "from torch.utils.data import DataLoader\r\n",
        "import torchvision.transforms as transforms\r\n",
        "from torchvision import datasets\r\n",
        "from torch.autograd import Variable\r\n",
        "\r\n",
        "import torch.nn as nn\r\n",
        "import torch\r\n",
        "\r\n",
        "########### Вывод изображений и сохранение ################################\r\n",
        "import matplotlib.pyplot as plt\r\n",
        "from IPython import display\r\n",
        "from torchvision.utils import save_image, make_grid"
      ],
      "execution_count": 1,
      "outputs": []
    },
    {
      "cell_type": "code",
      "metadata": {
        "colab": {
          "base_uri": "https://localhost:8080/"
        },
        "id": "inwhR2o5GY1V",
        "outputId": "303a1567-bf3d-416a-8439-76e4b5e10b80"
      },
      "source": [
        "device = torch.device('cuda') if torch.cuda.is_available() else torch.device('cpu')\r\n",
        "print(device)"
      ],
      "execution_count": 2,
      "outputs": [
        {
          "output_type": "stream",
          "text": [
            "cuda\n"
          ],
          "name": "stdout"
        }
      ]
    },
    {
      "cell_type": "code",
      "metadata": {
        "id": "qlGtWma1N8Rz"
      },
      "source": [
        "batch_size = 32\r\n",
        "lr = 0.0002\r\n",
        "\r\n",
        "b1 = 0.5\r\n",
        "b2 = 0.999\r\n",
        "\r\n",
        "sample_interval = 25"
      ],
      "execution_count": 4,
      "outputs": []
    },
    {
      "cell_type": "markdown",
      "metadata": {
        "id": "Vxk7_0Q0GeZ9"
      },
      "source": [
        "# Создание истинных данных"
      ]
    },
    {
      "cell_type": "code",
      "metadata": {
        "id": "J9xAiXGYFvyq"
      },
      "source": [
        "def func_y(x):\r\n",
        "    return np.sin(x)/x - x/10\r\n",
        "\r\n",
        "def get_data(n):\r\n",
        "    x = np.linspace(5, 30, n)\r\n",
        "    y = func_y(x)\r\n",
        "    return x, y"
      ],
      "execution_count": 60,
      "outputs": []
    },
    {
      "cell_type": "code",
      "metadata": {
        "colab": {
          "base_uri": "https://localhost:8080/",
          "height": 285
        },
        "id": "Zb6XdSYYF5xB",
        "outputId": "ca2e87f0-1a6e-4e16-e68d-02f35fcc626a"
      },
      "source": [
        "x_true, y_true = get_data(5000)\r\n",
        "plt.plot(x_true, y_true, 'o')"
      ],
      "execution_count": 61,
      "outputs": [
        {
          "output_type": "execute_result",
          "data": {
            "text/plain": [
              "[<matplotlib.lines.Line2D at 0x7fdbccd861d0>]"
            ]
          },
          "metadata": {
            "tags": []
          },
          "execution_count": 61
        },
        {
          "output_type": "display_data",
          "data": {
            "image/png": "[encoded data removed]",
            "text/plain": [
              "<Figure size 432x288 with 1 Axes>"
            ]
          },
          "metadata": {
            "tags": [],
            "needs_background": "light"
          }
        }
      ]
    },
    {
      "cell_type": "code",
      "metadata": {
        "id": "BGEMuEgoLc_H"
      },
      "source": [
        "class PointsDataset(torch.utils.data.Dataset):\r\n",
        "    def __init__(self, x, y):\r\n",
        "        \"\"\"\r\n",
        "        Args:\r\n",
        "            x (np.array): x row same length as y\r\n",
        "            y (np.array): y row same length as x\r\n",
        "\r\n",
        "        \"\"\"\r\n",
        "        self.x = x\r\n",
        "        self.y = y\r\n",
        "\r\n",
        "    def __len__(self):\r\n",
        "        return len(self.x)\r\n",
        "\r\n",
        "    def __getitem__(self, idx):\r\n",
        "\r\n",
        "        point_x = self.x[idx]\r\n",
        "        point_y = self.y[idx]\r\n",
        "\r\n",
        "        return torch.tensor([point_x, point_y])\r\n"
      ],
      "execution_count": 9,
      "outputs": []
    },
    {
      "cell_type": "code",
      "metadata": {
        "id": "_BxKr8d8Nyjw"
      },
      "source": [
        "our_data = PointsDataset(x_true, y_true)"
      ],
      "execution_count": 62,
      "outputs": []
    },
    {
      "cell_type": "code",
      "metadata": {
        "id": "449fXXhALFMQ"
      },
      "source": [
        "real_data = torch.utils.data.DataLoader(\r\n",
        "    our_data,\r\n",
        "    batch_size=batch_size,\r\n",
        "    shuffle=True,\r\n",
        ")"
      ],
      "execution_count": 63,
      "outputs": []
    },
    {
      "cell_type": "code",
      "metadata": {
        "colab": {
          "base_uri": "https://localhost:8080/"
        },
        "id": "VC1CZGlfOFho",
        "outputId": "fa332760-d671-44ea-e9d2-5053527b58b4"
      },
      "source": [
        "dataiter = iter(real_data)\r\n",
        "print(dataiter.next())"
      ],
      "execution_count": 31,
      "outputs": [
        {
          "output_type": "stream",
          "text": [
            "tensor([[-18.4417,   1.8227],\n",
            "        [-25.8832,   2.6147],\n",
            "        [ 19.2338,  -1.9039],\n",
            "        [ 18.5377,  -1.8703],\n",
            "        [ -5.3951,   0.3957],\n",
            "        [-23.1226,   2.2731],\n",
            "        [ 10.6881,  -1.1580],\n",
            "        [-20.0020,   2.0459],\n",
            "        [-27.3835,   2.7667],\n",
            "        [-28.5357,   2.8445],\n",
            "        [ 15.7171,  -1.5723],\n",
            "        [  3.7868,  -0.5375],\n",
            "        [ -9.7159,   0.9420],\n",
            "        [-18.3937,   1.8154],\n",
            "        [  2.0464,   0.2298],\n",
            "        [-14.4809,   1.5131],\n",
            "        [-10.5081,   0.9667],\n",
            "        [-14.5769,   1.5198],\n",
            "        [ -2.6825,   0.4334],\n",
            "        [ 14.8050,  -1.4275],\n",
            "        [-26.6033,   2.6977],\n",
            "        [-11.9484,   1.1463],\n",
            "        [ 23.3987,  -2.3820],\n",
            "        [ 15.3571,  -1.5133],\n",
            "        [-18.5617,   1.8409],\n",
            "        [ 13.1366,  -1.2726],\n",
            "        [  7.8316,  -0.6555],\n",
            "        [ -9.2358,   0.9439],\n",
            "        [ -3.8828,   0.2144],\n",
            "        [ 22.0544,  -2.2083],\n",
            "        [-26.4833,   2.6852],\n",
            "        [ 12.0564,  -1.2461]], dtype=torch.float64)\n"
          ],
          "name": "stdout"
        }
      ]
    },
    {
      "cell_type": "code",
      "metadata": {
        "id": "W0HZrjavOaSE"
      },
      "source": [
        "class CustomLinearLayer(nn.Module):\r\n",
        "    def __init__(self, size_in, size_out):\r\n",
        "        super().__init__()\r\n",
        "        self.size_in, self.size_out = size_in, size_out\r\n",
        "        \r\n",
        "        weights = torch.Tensor(size_out, size_in)\r\n",
        "        self.weights = nn.Parameter(weights) # Обьявляем веса кка параметры слоя\r\n",
        "\r\n",
        "        bias = torch.Tensor(size_out)\r\n",
        "        self.bias = nn.Parameter(bias)\r\n",
        "\r\n",
        "        nn.init.uniform_(self.weights, -0.005, 0.005) \r\n",
        "        nn.init.uniform_(self.bias, -0.005, 0.005)  \r\n",
        "\r\n",
        "    def forward(self, x):\r\n",
        "        # По формуле линейного слоя, нам нужно умножить наши данные на трнспонированные веса и добавить смещение\r\n",
        "        w_times_x = torch.mm(x.float(), self.weights.t())\r\n",
        "        return torch.add(w_times_x, self.bias)  "
      ],
      "execution_count": 32,
      "outputs": []
    },
    {
      "cell_type": "code",
      "metadata": {
        "id": "79FdbtKbFhFW"
      },
      "source": [
        "class Generator(nn.Module):\r\n",
        "    def __init__(self):\r\n",
        "        super().__init__()\r\n",
        "        \r\n",
        "        # Использование таких словарей позволяет нам варьировать параметры нашей сети\r\n",
        "        self.activations = nn.ModuleDict([\r\n",
        "                ['lrelu', nn.LeakyReLU(0.2, inplace=True)],\r\n",
        "                ['relu', nn.ReLU(0.2)]])\r\n",
        "        \r\n",
        "        def block(in_feat, out_feat, normalize=True, activation='relu'): #activation='relu\r\n",
        "            layers = [nn.Linear(in_feat, out_feat)] # Если мы создаем последовательность слоев - то мы задаем их\r\n",
        "                                                    # с помощью списка.\r\n",
        "            if normalize:\r\n",
        "                layers.append(nn.BatchNorm1d(out_feat, 0.8))\r\n",
        "            layers.append(self.activations[activation]) # Эта сторчка означает тоже самое что и\r\n",
        "                                                       # layers.append(nn.LeakyReLU(0.2, inplace=True))\r\n",
        "            return layers\r\n",
        "\r\n",
        "        self.model = nn.Sequential(\r\n",
        "            *block(100, 128, normalize=False), # Звездочка означает unpacking списка\r\n",
        "            *block(128, 256, activation='lrelu'),\r\n",
        "            *block(256, 512),\r\n",
        "            *block(512, 1024),\r\n",
        "            nn.Linear(1024, 2),\r\n",
        "            nn.Tanh()\r\n",
        "        )\r\n",
        "\r\n",
        "    def forward(self, z):\r\n",
        "        img = self.model(z)\r\n",
        "        img = img.view(img.shape[0], 2)\r\n",
        "        return img\r\n"
      ],
      "execution_count": 83,
      "outputs": []
    },
    {
      "cell_type": "code",
      "metadata": {
        "id": "qDGOWJn1Oeaj"
      },
      "source": [
        "class Discriminator(nn.Module):\r\n",
        "    def __init__(self):\r\n",
        "        super().__init__()\r\n",
        "\r\n",
        "        self.model = nn.Sequential(\r\n",
        "            CustomLinearLayer(2, 512),\r\n",
        "            nn.LeakyReLU(0.2, inplace=True),\r\n",
        "            CustomLinearLayer(512, 256),\r\n",
        "            nn.LeakyReLU(0.2, inplace=True),\r\n",
        "            CustomLinearLayer(256, 1),\r\n",
        "            nn.Sigmoid(),\r\n",
        "        )\r\n",
        "  \r\n",
        "\r\n",
        "    def forward(self, img):\r\n",
        "        img_flat = img.view(img.size(0), -1)\r\n",
        "        validity = self.model(img_flat)\r\n",
        "\r\n",
        "        return validity"
      ],
      "execution_count": 34,
      "outputs": []
    },
    {
      "cell_type": "code",
      "metadata": {
        "id": "gv2phQGDOhac"
      },
      "source": [
        "generator = Generator().to(device)\r\n",
        "discriminator = Discriminator().to(device)\r\n",
        "\r\n",
        "# Для каждой нейронки свой опитимизатор\r\n",
        "optimizer_G = torch.optim.Adam(generator.parameters(), lr=lr, betas=(b1, b2))\r\n",
        "optimizer_D = torch.optim.Adam(discriminator.parameters(), lr=lr, betas=(b1, b2))\r\n",
        "\r\n",
        "# Но вот функция ошибки у нас будет одна общая\r\n",
        "adversarial_loss = torch.nn.BCELoss()"
      ],
      "execution_count": 80,
      "outputs": []
    },
    {
      "cell_type": "code",
      "metadata": {
        "id": "spIIYJ3rcU5Q"
      },
      "source": [
        "n_epochs = 5\r\n",
        "\r\n",
        "d_loss_history = []\r\n",
        "g_loss_history = []"
      ],
      "execution_count": 81,
      "outputs": []
    },
    {
      "cell_type": "code",
      "metadata": {
        "colab": {
          "base_uri": "https://localhost:8080/",
          "height": 357
        },
        "id": "pagoW8UFSL-3",
        "outputId": "54251b99-ba43-4351-bc41-f6d57acb61ba"
      },
      "source": [
        "import matplotlib.patches as mpatches\r\n",
        "\r\n",
        "red_patch = mpatches.Patch(color='red', label='D loss')\r\n",
        "green_patch = mpatches.Patch(color='green', label='G loss')\r\n",
        "\r\n",
        "\r\n",
        "\r\n",
        "for epoch in range(n_epochs):\r\n",
        "    for i, elem in enumerate(real_data):\r\n",
        "\r\n",
        "        batch_size = elem.shape[0]\r\n",
        "##################### Лейблы для данных: 1 - настоящие, 0 - сгенерированные ########\r\n",
        "        valid = Variable(torch.FloatTensor(batch_size, 1).fill_(1.0), requires_grad=False).to(device)\r\n",
        "        fake = Variable(torch.FloatTensor(batch_size, 1).fill_(0.0), requires_grad=False).to(device)\r\n",
        "\r\n",
        "        elem = elem.to(device)\r\n",
        "\r\n",
        "\r\n",
        "######################  Тренировка генератора    ##########################\r\n",
        "\r\n",
        "        optimizer_G.zero_grad()\r\n",
        "    \r\n",
        "        #генерация шума\r\n",
        "        z = Variable(torch.FloatTensor(np.random.normal(0, 1, (batch_size, 100)))).to(device)\r\n",
        "\r\n",
        "        #print(\"z \", z)\r\n",
        "        \r\n",
        "        # Генерируем даные Генератором на основе шума\r\n",
        "        gen_imgs = generator(z)\r\n",
        "        \r\n",
        "        # Подаем сгенерированые данные на Дискриминатор \r\n",
        "        validity = discriminator(gen_imgs)\r\n",
        "        \r\n",
        "        # Тут сравниваем предсказанные значения Дискриминатора(на основе сгенерировнных данных) с настоящими\r\n",
        "        g_loss = adversarial_loss(validity, valid)\r\n",
        "        \r\n",
        "        # Делаем шаг обучения нашего Генератора\r\n",
        "        g_loss.backward()\r\n",
        "        optimizer_G.step()\r\n",
        "\r\n",
        "######################  Тренировка дискриминатора    ##########################\r\n",
        "\r\n",
        "        optimizer_D.zero_grad()\r\n",
        "        \r\n",
        "        # Получаем предсказания дискриминатора на основе реальных данных\r\n",
        "        real_pred = discriminator(elem)\r\n",
        "        \r\n",
        "        # Тут сравниваем предсказанные значения Дискриминатора(на основе настоящих данных) с настоящими\r\n",
        "        d_real_loss = adversarial_loss(real_pred, valid)\r\n",
        "        \r\n",
        "        # Опять делаем предсказание на Дискриминаторе с помощью сгенерированных данных\r\n",
        "        fake_pred = discriminator(gen_imgs.detach())\r\n",
        "        \r\n",
        "        # расчитываем ошибку предсказанного с фейковыми лейблами\r\n",
        "        d_fake_loss = adversarial_loss(fake_pred, fake)\r\n",
        "        \r\n",
        "        # И усредняем два лосса в один\r\n",
        "        d_loss = (d_real_loss + d_fake_loss) / 2\r\n",
        "\r\n",
        "        d_loss.backward()\r\n",
        "        optimizer_D.step()\r\n",
        "        \r\n",
        "######## Отображение процесса обучения и вывод функций потерь ############\r\n",
        "        batches_done = epoch * len(real_data) + i\r\n",
        "    \r\n",
        "        if batches_done % sample_interval == 0:\r\n",
        "            with torch.no_grad():\r\n",
        "                plt.clf()\r\n",
        "\r\n",
        "                display.clear_output(wait=False)\r\n",
        "                #sample_image(gen_imgs)\r\n",
        "                print(\"[Epoch %d/%d] [Batch %d/%d] [D loss: %f] [G loss: %f]\"% (epoch, n_epochs, i, len(real_data), d_loss.item(), g_loss.item()) ) \r\n",
        "\r\n",
        "\r\n",
        "                #display.display(plt.gcf())\r\n",
        "\r\n",
        "                d_loss = d_loss.cpu().detach()\r\n",
        "                g_loss = g_loss.cpu().detach()\r\n",
        "\r\n",
        "\r\n",
        "                d_loss_history.append(d_loss)\r\n",
        "                g_loss_history.append(g_loss)\r\n",
        "\r\n",
        "                plt.plot(np.log(np.array(d_loss_history)), label='D loss', color = 'red')\r\n",
        "                plt.plot(np.log(np.array(g_loss_history)), label='G loss', color = 'green')\r\n",
        "                plt.legend(handles=[red_patch, green_patch])\r\n",
        "                plt.show()\r\n",
        "\r\n",
        "            "
      ],
      "execution_count": 82,
      "outputs": [
        {
          "output_type": "error",
          "ename": "RuntimeError",
          "evalue": "ignored",
          "traceback": [
            "\u001b[0;31m---------------------------------------------------------------------------\u001b[0m",
            "\u001b[0;31mRuntimeError\u001b[0m                              Traceback (most recent call last)",
            "\u001b[0;32m<ipython-input-82-4d6490882c25>\u001b[0m in \u001b[0;36m<module>\u001b[0;34m()\u001b[0m\n\u001b[1;32m     27\u001b[0m \u001b[0;34m\u001b[0m\u001b[0m\n\u001b[1;32m     28\u001b[0m         \u001b[0;31m# Генерируем даные Генератором на основе шума\u001b[0m\u001b[0;34m\u001b[0m\u001b[0;34m\u001b[0m\u001b[0;34m\u001b[0m\u001b[0m\n\u001b[0;32m---> 29\u001b[0;31m         \u001b[0mgen_imgs\u001b[0m \u001b[0;34m=\u001b[0m \u001b[0mgenerator\u001b[0m\u001b[0;34m(\u001b[0m\u001b[0mz\u001b[0m\u001b[0;34m)\u001b[0m\u001b[0;34m\u001b[0m\u001b[0;34m\u001b[0m\u001b[0m\n\u001b[0m\u001b[1;32m     30\u001b[0m \u001b[0;34m\u001b[0m\u001b[0m\n\u001b[1;32m     31\u001b[0m         \u001b[0;31m# Подаем сгенерированые данные на Дискриминатор\u001b[0m\u001b[0;34m\u001b[0m\u001b[0;34m\u001b[0m\u001b[0;34m\u001b[0m\u001b[0m\n",
            "\u001b[0;32m/usr/local/lib/python3.7/dist-packages/torch/nn/modules/module.py\u001b[0m in \u001b[0;36m_call_impl\u001b[0;34m(self, *input, **kwargs)\u001b[0m\n\u001b[1;32m    725\u001b[0m             \u001b[0mresult\u001b[0m \u001b[0;34m=\u001b[0m \u001b[0mself\u001b[0m\u001b[0;34m.\u001b[0m\u001b[0m_slow_forward\u001b[0m\u001b[0;34m(\u001b[0m\u001b[0;34m*\u001b[0m\u001b[0minput\u001b[0m\u001b[0;34m,\u001b[0m \u001b[0;34m**\u001b[0m\u001b[0mkwargs\u001b[0m\u001b[0;34m)\u001b[0m\u001b[0;34m\u001b[0m\u001b[0;34m\u001b[0m\u001b[0m\n\u001b[1;32m    726\u001b[0m         \u001b[0;32melse\u001b[0m\u001b[0;34m:\u001b[0m\u001b[0;34m\u001b[0m\u001b[0;34m\u001b[0m\u001b[0m\n\u001b[0;32m--> 727\u001b[0;31m             \u001b[0mresult\u001b[0m \u001b[0;34m=\u001b[0m \u001b[0mself\u001b[0m\u001b[0;34m.\u001b[0m\u001b[0mforward\u001b[0m\u001b[0;34m(\u001b[0m\u001b[0;34m*\u001b[0m\u001b[0minput\u001b[0m\u001b[0;34m,\u001b[0m \u001b[0;34m**\u001b[0m\u001b[0mkwargs\u001b[0m\u001b[0;34m)\u001b[0m\u001b[0;34m\u001b[0m\u001b[0;34m\u001b[0m\u001b[0m\n\u001b[0m\u001b[1;32m    728\u001b[0m         for hook in itertools.chain(\n\u001b[1;32m    729\u001b[0m                 \u001b[0m_global_forward_hooks\u001b[0m\u001b[0;34m.\u001b[0m\u001b[0mvalues\u001b[0m\u001b[0;34m(\u001b[0m\u001b[0;34m)\u001b[0m\u001b[0;34m,\u001b[0m\u001b[0;34m\u001b[0m\u001b[0;34m\u001b[0m\u001b[0m\n",
            "\u001b[0;32m<ipython-input-79-379c2f56060d>\u001b[0m in \u001b[0;36mforward\u001b[0;34m(self, z)\u001b[0m\n\u001b[1;32m     28\u001b[0m     \u001b[0;32mdef\u001b[0m \u001b[0mforward\u001b[0m\u001b[0;34m(\u001b[0m\u001b[0mself\u001b[0m\u001b[0;34m,\u001b[0m \u001b[0mz\u001b[0m\u001b[0;34m)\u001b[0m\u001b[0;34m:\u001b[0m\u001b[0;34m\u001b[0m\u001b[0;34m\u001b[0m\u001b[0m\n\u001b[1;32m     29\u001b[0m         \u001b[0mimg\u001b[0m \u001b[0;34m=\u001b[0m \u001b[0mself\u001b[0m\u001b[0;34m.\u001b[0m\u001b[0mmodel\u001b[0m\u001b[0;34m(\u001b[0m\u001b[0mz\u001b[0m\u001b[0;34m)\u001b[0m\u001b[0;34m\u001b[0m\u001b[0;34m\u001b[0m\u001b[0m\n\u001b[0;32m---> 30\u001b[0;31m         \u001b[0mimg\u001b[0m \u001b[0;34m=\u001b[0m \u001b[0mimg\u001b[0m\u001b[0;34m.\u001b[0m\u001b[0mview\u001b[0m\u001b[0;34m(\u001b[0m\u001b[0mimg\u001b[0m\u001b[0;34m.\u001b[0m\u001b[0mshape\u001b[0m\u001b[0;34m[\u001b[0m\u001b[0;36m0\u001b[0m\u001b[0;34m]\u001b[0m\u001b[0;34m,\u001b[0m \u001b[0;36m2\u001b[0m\u001b[0;34m)\u001b[0m\u001b[0;34m\u001b[0m\u001b[0;34m\u001b[0m\u001b[0m\n\u001b[0m\u001b[1;32m     31\u001b[0m         \u001b[0;32mreturn\u001b[0m \u001b[0mimg\u001b[0m\u001b[0;34m\u001b[0m\u001b[0;34m\u001b[0m\u001b[0m\n",
            "\u001b[0;31mRuntimeError\u001b[0m: shape '[8, 2]' is invalid for input of size 160"
          ]
        }
      ]
    },
    {
      "cell_type": "code",
      "metadata": {
        "colab": {
          "base_uri": "https://localhost:8080/"
        },
        "id": "VLN5Jk7gdoxQ",
        "outputId": "e41cc43e-7bee-425f-e7bb-9f06d5a1de80"
      },
      "source": [
        "gen_imgs"
      ],
      "execution_count": 78,
      "outputs": [
        {
          "output_type": "execute_result",
          "data": {
            "text/plain": [
              "tensor([[ 1.0000,  0.9989],\n",
              "        [ 1.0000, -1.0000],\n",
              "        [ 1.0000,  1.0000],\n",
              "        [ 1.0000,  0.8863],\n",
              "        [ 1.0000,  0.9993],\n",
              "        [ 1.0000,  0.9832],\n",
              "        [ 1.0000,  1.0000],\n",
              "        [ 1.0000, -1.0000]], device='cuda:0', grad_fn=<ViewBackward>)"
            ]
          },
          "metadata": {
            "tags": []
          },
          "execution_count": 78
        }
      ]
    },
    {
      "cell_type": "code",
      "metadata": {
        "colab": {
          "base_uri": "https://localhost:8080/"
        },
        "id": "3Lzks8Uxh95H",
        "outputId": "bab44bd2-3d9a-4b2b-b136-e3619d5b7220"
      },
      "source": [
        "gen_imgs[0].to('cpu').detach().numpy()"
      ],
      "execution_count": 52,
      "outputs": [
        {
          "output_type": "execute_result",
          "data": {
            "text/plain": [
              "array([-1.,  1.], dtype=float32)"
            ]
          },
          "metadata": {
            "tags": []
          },
          "execution_count": 52
        }
      ]
    },
    {
      "cell_type": "code",
      "metadata": {
        "id": "ejRA6iaQiIok"
      },
      "source": [
        "gen_imgs[:,0].to('cpu').detach().numpy(), gen_imgs[:,1].to('cpu').detach().numpy(), 'o'"
      ],
      "execution_count": null,
      "outputs": []
    },
    {
      "cell_type": "code",
      "metadata": {
        "id": "AqHJYXLhjNsM"
      },
      "source": [
        "#генерация шума\r\n",
        "z = Variable(torch.FloatTensor(np.random.normal(0, 1, (1000, 2)))).to(device)\r\n",
        "\r\n",
        "#print(\"z \", z)\r\n",
        "\r\n",
        "# Генерируем даные Генератором на основе шума\r\n",
        "gen_imgs = generator(z)"
      ],
      "execution_count": 68,
      "outputs": []
    },
    {
      "cell_type": "code",
      "metadata": {
        "colab": {
          "base_uri": "https://localhost:8080/",
          "height": 299
        },
        "id": "KxLv-zQ7ezXk",
        "outputId": "6c6da3d0-a152-4118-b7be-6d07763f157d"
      },
      "source": [
        "\r\n",
        "plt.plot(x_true, y_true, 'o', gen_imgs[:,0].to('cpu').detach().numpy(), gen_imgs[:,1].to('cpu').detach().numpy(), 'o')"
      ],
      "execution_count": 69,
      "outputs": [
        {
          "output_type": "execute_result",
          "data": {
            "text/plain": [
              "[<matplotlib.lines.Line2D at 0x7fdbcce33350>,\n",
              " <matplotlib.lines.Line2D at 0x7fdbcd0eec10>]"
            ]
          },
          "metadata": {
            "tags": []
          },
          "execution_count": 69
        },
        {
          "output_type": "display_data",
          "data": {
            "image/png": "[encoded data removed]",
            "text/plain": [
              "<Figure size 432x288 with 1 Axes>"
            ]
          },
          "metadata": {
            "tags": [],
            "needs_background": "light"
          }
        }
      ]
    }
  ]
}