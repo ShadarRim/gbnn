{
  "nbformat": 4,
  "nbformat_minor": 0,
  "metadata": {
    "colab": {
      "name": "guNN92.ipynb",
      "provenance": []
    },
    "kernelspec": {
      "name": "python3",
      "display_name": "Python 3"
    },
    "accelerator": "GPU",
    "widgets": {
      "application/vnd.jupyter.widget-state+json": {
        "423caee4d68e43ea839dab77641e5f3a": {
          "model_module": "@jupyter-widgets/controls",
          "model_name": "HBoxModel",
          "state": {
            "_view_name": "HBoxView",
            "_dom_classes": [],
            "_model_name": "HBoxModel",
            "_view_module": "@jupyter-widgets/controls",
            "_model_module_version": "1.5.0",
            "_view_count": null,
            "_view_module_version": "1.5.0",
            "box_style": "",
            "layout": "IPY_MODEL_de0ce0be4d0f4ace892d2bf2606871a0",
            "_model_module": "@jupyter-widgets/controls",
            "children": [
              "IPY_MODEL_5cb501d030d14b00bebede99c0be98fa",
              "IPY_MODEL_be473159bfd24460ab52986251f6b457"
            ]
          }
        },
        "de0ce0be4d0f4ace892d2bf2606871a0": {
          "model_module": "@jupyter-widgets/base",
          "model_name": "LayoutModel",
          "state": {
            "_view_name": "LayoutView",
            "grid_template_rows": null,
            "right": null,
            "justify_content": null,
            "_view_module": "@jupyter-widgets/base",
            "overflow": null,
            "_model_module_version": "1.2.0",
            "_view_count": null,
            "flex_flow": null,
            "width": null,
            "min_width": null,
            "border": null,
            "align_items": null,
            "bottom": null,
            "_model_module": "@jupyter-widgets/base",
            "top": null,
            "grid_column": null,
            "overflow_y": null,
            "overflow_x": null,
            "grid_auto_flow": null,
            "grid_area": null,
            "grid_template_columns": null,
            "flex": null,
            "_model_name": "LayoutModel",
            "justify_items": null,
            "grid_row": null,
            "max_height": null,
            "align_content": null,
            "visibility": null,
            "align_self": null,
            "height": null,
            "min_height": null,
            "padding": null,
            "grid_auto_rows": null,
            "grid_gap": null,
            "max_width": null,
            "order": null,
            "_view_module_version": "1.2.0",
            "grid_template_areas": null,
            "object_position": null,
            "object_fit": null,
            "grid_auto_columns": null,
            "margin": null,
            "display": null,
            "left": null
          }
        },
        "5cb501d030d14b00bebede99c0be98fa": {
          "model_module": "@jupyter-widgets/controls",
          "model_name": "FloatProgressModel",
          "state": {
            "_view_name": "ProgressView",
            "style": "IPY_MODEL_f81274261e5c4219bfacf58ac71a6f4e",
            "_dom_classes": [],
            "description": "",
            "_model_name": "FloatProgressModel",
            "bar_style": "success",
            "max": 1,
            "_view_module": "@jupyter-widgets/controls",
            "_model_module_version": "1.5.0",
            "value": 1,
            "_view_count": null,
            "_view_module_version": "1.5.0",
            "orientation": "horizontal",
            "min": 0,
            "description_tooltip": null,
            "_model_module": "@jupyter-widgets/controls",
            "layout": "IPY_MODEL_a333996518b745b9a9d9fd82385eacbe"
          }
        },
        "be473159bfd24460ab52986251f6b457": {
          "model_module": "@jupyter-widgets/controls",
          "model_name": "HTMLModel",
          "state": {
            "_view_name": "HTMLView",
            "style": "IPY_MODEL_1a3caa26d44742bda8879eef07200b3c",
            "_dom_classes": [],
            "description": "",
            "_model_name": "HTMLModel",
            "placeholder": "​",
            "_view_module": "@jupyter-widgets/controls",
            "_model_module_version": "1.5.0",
            "value": " 9920512/? [00:00&lt;00:00, 12744686.66it/s]",
            "_view_count": null,
            "_view_module_version": "1.5.0",
            "description_tooltip": null,
            "_model_module": "@jupyter-widgets/controls",
            "layout": "IPY_MODEL_735637749afd432094b071ed102841f1"
          }
        },
        "f81274261e5c4219bfacf58ac71a6f4e": {
          "model_module": "@jupyter-widgets/controls",
          "model_name": "ProgressStyleModel",
          "state": {
            "_view_name": "StyleView",
            "_model_name": "ProgressStyleModel",
            "description_width": "initial",
            "_view_module": "@jupyter-widgets/base",
            "_model_module_version": "1.5.0",
            "_view_count": null,
            "_view_module_version": "1.2.0",
            "bar_color": null,
            "_model_module": "@jupyter-widgets/controls"
          }
        },
        "a333996518b745b9a9d9fd82385eacbe": {
          "model_module": "@jupyter-widgets/base",
          "model_name": "LayoutModel",
          "state": {
            "_view_name": "LayoutView",
            "grid_template_rows": null,
            "right": null,
            "justify_content": null,
            "_view_module": "@jupyter-widgets/base",
            "overflow": null,
            "_model_module_version": "1.2.0",
            "_view_count": null,
            "flex_flow": null,
            "width": null,
            "min_width": null,
            "border": null,
            "align_items": null,
            "bottom": null,
            "_model_module": "@jupyter-widgets/base",
            "top": null,
            "grid_column": null,
            "overflow_y": null,
            "overflow_x": null,
            "grid_auto_flow": null,
            "grid_area": null,
            "grid_template_columns": null,
            "flex": null,
            "_model_name": "LayoutModel",
            "justify_items": null,
            "grid_row": null,
            "max_height": null,
            "align_content": null,
            "visibility": null,
            "align_self": null,
            "height": null,
            "min_height": null,
            "padding": null,
            "grid_auto_rows": null,
            "grid_gap": null,
            "max_width": null,
            "order": null,
            "_view_module_version": "1.2.0",
            "grid_template_areas": null,
            "object_position": null,
            "object_fit": null,
            "grid_auto_columns": null,
            "margin": null,
            "display": null,
            "left": null
          }
        },
        "1a3caa26d44742bda8879eef07200b3c": {
          "model_module": "@jupyter-widgets/controls",
          "model_name": "DescriptionStyleModel",
          "state": {
            "_view_name": "StyleView",
            "_model_name": "DescriptionStyleModel",
            "description_width": "",
            "_view_module": "@jupyter-widgets/base",
            "_model_module_version": "1.5.0",
            "_view_count": null,
            "_view_module_version": "1.2.0",
            "_model_module": "@jupyter-widgets/controls"
          }
        },
        "735637749afd432094b071ed102841f1": {
          "model_module": "@jupyter-widgets/base",
          "model_name": "LayoutModel",
          "state": {
            "_view_name": "LayoutView",
            "grid_template_rows": null,
            "right": null,
            "justify_content": null,
            "_view_module": "@jupyter-widgets/base",
            "overflow": null,
            "_model_module_version": "1.2.0",
            "_view_count": null,
            "flex_flow": null,
            "width": null,
            "min_width": null,
            "border": null,
            "align_items": null,
            "bottom": null,
            "_model_module": "@jupyter-widgets/base",
            "top": null,
            "grid_column": null,
            "overflow_y": null,
            "overflow_x": null,
            "grid_auto_flow": null,
            "grid_area": null,
            "grid_template_columns": null,
            "flex": null,
            "_model_name": "LayoutModel",
            "justify_items": null,
            "grid_row": null,
            "max_height": null,
            "align_content": null,
            "visibility": null,
            "align_self": null,
            "height": null,
            "min_height": null,
            "padding": null,
            "grid_auto_rows": null,
            "grid_gap": null,
            "max_width": null,
            "order": null,
            "_view_module_version": "1.2.0",
            "grid_template_areas": null,
            "object_position": null,
            "object_fit": null,
            "grid_auto_columns": null,
            "margin": null,
            "display": null,
            "left": null
          }
        },
        "3540dda4bb2d4b4eb76b3582746ba6f5": {
          "model_module": "@jupyter-widgets/controls",
          "model_name": "HBoxModel",
          "state": {
            "_view_name": "HBoxView",
            "_dom_classes": [],
            "_model_name": "HBoxModel",
            "_view_module": "@jupyter-widgets/controls",
            "_model_module_version": "1.5.0",
            "_view_count": null,
            "_view_module_version": "1.5.0",
            "box_style": "",
            "layout": "IPY_MODEL_d1f98cb156dd439ea788f1c1ff630d55",
            "_model_module": "@jupyter-widgets/controls",
            "children": [
              "IPY_MODEL_1fc834140a914465bd28aff610040157",
              "IPY_MODEL_be3086a95b854e7d970d96a35decc199"
            ]
          }
        },
        "d1f98cb156dd439ea788f1c1ff630d55": {
          "model_module": "@jupyter-widgets/base",
          "model_name": "LayoutModel",
          "state": {
            "_view_name": "LayoutView",
            "grid_template_rows": null,
            "right": null,
            "justify_content": null,
            "_view_module": "@jupyter-widgets/base",
            "overflow": null,
            "_model_module_version": "1.2.0",
            "_view_count": null,
            "flex_flow": null,
            "width": null,
            "min_width": null,
            "border": null,
            "align_items": null,
            "bottom": null,
            "_model_module": "@jupyter-widgets/base",
            "top": null,
            "grid_column": null,
            "overflow_y": null,
            "overflow_x": null,
            "grid_auto_flow": null,
            "grid_area": null,
            "grid_template_columns": null,
            "flex": null,
            "_model_name": "LayoutModel",
            "justify_items": null,
            "grid_row": null,
            "max_height": null,
            "align_content": null,
            "visibility": null,
            "align_self": null,
            "height": null,
            "min_height": null,
            "padding": null,
            "grid_auto_rows": null,
            "grid_gap": null,
            "max_width": null,
            "order": null,
            "_view_module_version": "1.2.0",
            "grid_template_areas": null,
            "object_position": null,
            "object_fit": null,
            "grid_auto_columns": null,
            "margin": null,
            "display": null,
            "left": null
          }
        },
        "1fc834140a914465bd28aff610040157": {
          "model_module": "@jupyter-widgets/controls",
          "model_name": "FloatProgressModel",
          "state": {
            "_view_name": "ProgressView",
            "style": "IPY_MODEL_8e24d8261d34432aba2dee263b59ba3a",
            "_dom_classes": [],
            "description": "",
            "_model_name": "FloatProgressModel",
            "bar_style": "success",
            "max": 1,
            "_view_module": "@jupyter-widgets/controls",
            "_model_module_version": "1.5.0",
            "value": 1,
            "_view_count": null,
            "_view_module_version": "1.5.0",
            "orientation": "horizontal",
            "min": 0,
            "description_tooltip": null,
            "_model_module": "@jupyter-widgets/controls",
            "layout": "IPY_MODEL_279a5c563b894343ad0f02ede8e27cca"
          }
        },
        "be3086a95b854e7d970d96a35decc199": {
          "model_module": "@jupyter-widgets/controls",
          "model_name": "HTMLModel",
          "state": {
            "_view_name": "HTMLView",
            "style": "IPY_MODEL_6c1ebc4ad4de468284031d4fb7b4532f",
            "_dom_classes": [],
            "description": "",
            "_model_name": "HTMLModel",
            "placeholder": "​",
            "_view_module": "@jupyter-widgets/controls",
            "_model_module_version": "1.5.0",
            "value": " 32768/? [00:00&lt;00:00, 299756.50it/s]",
            "_view_count": null,
            "_view_module_version": "1.5.0",
            "description_tooltip": null,
            "_model_module": "@jupyter-widgets/controls",
            "layout": "IPY_MODEL_cf041967b06549cd886e30a82e2ab507"
          }
        },
        "8e24d8261d34432aba2dee263b59ba3a": {
          "model_module": "@jupyter-widgets/controls",
          "model_name": "ProgressStyleModel",
          "state": {
            "_view_name": "StyleView",
            "_model_name": "ProgressStyleModel",
            "description_width": "initial",
            "_view_module": "@jupyter-widgets/base",
            "_model_module_version": "1.5.0",
            "_view_count": null,
            "_view_module_version": "1.2.0",
            "bar_color": null,
            "_model_module": "@jupyter-widgets/controls"
          }
        },
        "279a5c563b894343ad0f02ede8e27cca": {
          "model_module": "@jupyter-widgets/base",
          "model_name": "LayoutModel",
          "state": {
            "_view_name": "LayoutView",
            "grid_template_rows": null,
            "right": null,
            "justify_content": null,
            "_view_module": "@jupyter-widgets/base",
            "overflow": null,
            "_model_module_version": "1.2.0",
            "_view_count": null,
            "flex_flow": null,
            "width": null,
            "min_width": null,
            "border": null,
            "align_items": null,
            "bottom": null,
            "_model_module": "@jupyter-widgets/base",
            "top": null,
            "grid_column": null,
            "overflow_y": null,
            "overflow_x": null,
            "grid_auto_flow": null,
            "grid_area": null,
            "grid_template_columns": null,
            "flex": null,
            "_model_name": "LayoutModel",
            "justify_items": null,
            "grid_row": null,
            "max_height": null,
            "align_content": null,
            "visibility": null,
            "align_self": null,
            "height": null,
            "min_height": null,
            "padding": null,
            "grid_auto_rows": null,
            "grid_gap": null,
            "max_width": null,
            "order": null,
            "_view_module_version": "1.2.0",
            "grid_template_areas": null,
            "object_position": null,
            "object_fit": null,
            "grid_auto_columns": null,
            "margin": null,
            "display": null,
            "left": null
          }
        },
        "6c1ebc4ad4de468284031d4fb7b4532f": {
          "model_module": "@jupyter-widgets/controls",
          "model_name": "DescriptionStyleModel",
          "state": {
            "_view_name": "StyleView",
            "_model_name": "DescriptionStyleModel",
            "description_width": "",
            "_view_module": "@jupyter-widgets/base",
            "_model_module_version": "1.5.0",
            "_view_count": null,
            "_view_module_version": "1.2.0",
            "_model_module": "@jupyter-widgets/controls"
          }
        },
        "cf041967b06549cd886e30a82e2ab507": {
          "model_module": "@jupyter-widgets/base",
          "model_name": "LayoutModel",
          "state": {
            "_view_name": "LayoutView",
            "grid_template_rows": null,
            "right": null,
            "justify_content": null,
            "_view_module": "@jupyter-widgets/base",
            "overflow": null,
            "_model_module_version": "1.2.0",
            "_view_count": null,
            "flex_flow": null,
            "width": null,
            "min_width": null,
            "border": null,
            "align_items": null,
            "bottom": null,
            "_model_module": "@jupyter-widgets/base",
            "top": null,
            "grid_column": null,
            "overflow_y": null,
            "overflow_x": null,
            "grid_auto_flow": null,
            "grid_area": null,
            "grid_template_columns": null,
            "flex": null,
            "_model_name": "LayoutModel",
            "justify_items": null,
            "grid_row": null,
            "max_height": null,
            "align_content": null,
            "visibility": null,
            "align_self": null,
            "height": null,
            "min_height": null,
            "padding": null,
            "grid_auto_rows": null,
            "grid_gap": null,
            "max_width": null,
            "order": null,
            "_view_module_version": "1.2.0",
            "grid_template_areas": null,
            "object_position": null,
            "object_fit": null,
            "grid_auto_columns": null,
            "margin": null,
            "display": null,
            "left": null
          }
        },
        "a17cb34ae50142bea03e928b3f909f13": {
          "model_module": "@jupyter-widgets/controls",
          "model_name": "HBoxModel",
          "state": {
            "_view_name": "HBoxView",
            "_dom_classes": [],
            "_model_name": "HBoxModel",
            "_view_module": "@jupyter-widgets/controls",
            "_model_module_version": "1.5.0",
            "_view_count": null,
            "_view_module_version": "1.5.0",
            "box_style": "",
            "layout": "IPY_MODEL_e9836b9bac1d4ac38a15cf0a894d7ca1",
            "_model_module": "@jupyter-widgets/controls",
            "children": [
              "IPY_MODEL_ccdfb5ecdf264abc93606101b0747ec5",
              "IPY_MODEL_42d54369d087414e9f7c5bfa6bb48fee"
            ]
          }
        },
        "e9836b9bac1d4ac38a15cf0a894d7ca1": {
          "model_module": "@jupyter-widgets/base",
          "model_name": "LayoutModel",
          "state": {
            "_view_name": "LayoutView",
            "grid_template_rows": null,
            "right": null,
            "justify_content": null,
            "_view_module": "@jupyter-widgets/base",
            "overflow": null,
            "_model_module_version": "1.2.0",
            "_view_count": null,
            "flex_flow": null,
            "width": null,
            "min_width": null,
            "border": null,
            "align_items": null,
            "bottom": null,
            "_model_module": "@jupyter-widgets/base",
            "top": null,
            "grid_column": null,
            "overflow_y": null,
            "overflow_x": null,
            "grid_auto_flow": null,
            "grid_area": null,
            "grid_template_columns": null,
            "flex": null,
            "_model_name": "LayoutModel",
            "justify_items": null,
            "grid_row": null,
            "max_height": null,
            "align_content": null,
            "visibility": null,
            "align_self": null,
            "height": null,
            "min_height": null,
            "padding": null,
            "grid_auto_rows": null,
            "grid_gap": null,
            "max_width": null,
            "order": null,
            "_view_module_version": "1.2.0",
            "grid_template_areas": null,
            "object_position": null,
            "object_fit": null,
            "grid_auto_columns": null,
            "margin": null,
            "display": null,
            "left": null
          }
        },
        "ccdfb5ecdf264abc93606101b0747ec5": {
          "model_module": "@jupyter-widgets/controls",
          "model_name": "FloatProgressModel",
          "state": {
            "_view_name": "ProgressView",
            "style": "IPY_MODEL_9f6860ea30f84e77810d2bdc19ebe6ce",
            "_dom_classes": [],
            "description": "",
            "_model_name": "FloatProgressModel",
            "bar_style": "info",
            "max": 1,
            "_view_module": "@jupyter-widgets/controls",
            "_model_module_version": "1.5.0",
            "value": 1,
            "_view_count": null,
            "_view_module_version": "1.5.0",
            "orientation": "horizontal",
            "min": 0,
            "description_tooltip": null,
            "_model_module": "@jupyter-widgets/controls",
            "layout": "IPY_MODEL_fa74ef640ef74d7893f4e26b256f8a52"
          }
        },
        "42d54369d087414e9f7c5bfa6bb48fee": {
          "model_module": "@jupyter-widgets/controls",
          "model_name": "HTMLModel",
          "state": {
            "_view_name": "HTMLView",
            "style": "IPY_MODEL_e51c5ab216fc477cb16aeebf1be70284",
            "_dom_classes": [],
            "description": "",
            "_model_name": "HTMLModel",
            "placeholder": "​",
            "_view_module": "@jupyter-widgets/controls",
            "_model_module_version": "1.5.0",
            "value": " 1654784/? [00:19&lt;00:00, 128172.83it/s]",
            "_view_count": null,
            "_view_module_version": "1.5.0",
            "description_tooltip": null,
            "_model_module": "@jupyter-widgets/controls",
            "layout": "IPY_MODEL_fcbbb72a73b545b4aaeaba4607f1caa3"
          }
        },
        "9f6860ea30f84e77810d2bdc19ebe6ce": {
          "model_module": "@jupyter-widgets/controls",
          "model_name": "ProgressStyleModel",
          "state": {
            "_view_name": "StyleView",
            "_model_name": "ProgressStyleModel",
            "description_width": "initial",
            "_view_module": "@jupyter-widgets/base",
            "_model_module_version": "1.5.0",
            "_view_count": null,
            "_view_module_version": "1.2.0",
            "bar_color": null,
            "_model_module": "@jupyter-widgets/controls"
          }
        },
        "fa74ef640ef74d7893f4e26b256f8a52": {
          "model_module": "@jupyter-widgets/base",
          "model_name": "LayoutModel",
          "state": {
            "_view_name": "LayoutView",
            "grid_template_rows": null,
            "right": null,
            "justify_content": null,
            "_view_module": "@jupyter-widgets/base",
            "overflow": null,
            "_model_module_version": "1.2.0",
            "_view_count": null,
            "flex_flow": null,
            "width": null,
            "min_width": null,
            "border": null,
            "align_items": null,
            "bottom": null,
            "_model_module": "@jupyter-widgets/base",
            "top": null,
            "grid_column": null,
            "overflow_y": null,
            "overflow_x": null,
            "grid_auto_flow": null,
            "grid_area": null,
            "grid_template_columns": null,
            "flex": null,
            "_model_name": "LayoutModel",
            "justify_items": null,
            "grid_row": null,
            "max_height": null,
            "align_content": null,
            "visibility": null,
            "align_self": null,
            "height": null,
            "min_height": null,
            "padding": null,
            "grid_auto_rows": null,
            "grid_gap": null,
            "max_width": null,
            "order": null,
            "_view_module_version": "1.2.0",
            "grid_template_areas": null,
            "object_position": null,
            "object_fit": null,
            "grid_auto_columns": null,
            "margin": null,
            "display": null,
            "left": null
          }
        },
        "e51c5ab216fc477cb16aeebf1be70284": {
          "model_module": "@jupyter-widgets/controls",
          "model_name": "DescriptionStyleModel",
          "state": {
            "_view_name": "StyleView",
            "_model_name": "DescriptionStyleModel",
            "description_width": "",
            "_view_module": "@jupyter-widgets/base",
            "_model_module_version": "1.5.0",
            "_view_count": null,
            "_view_module_version": "1.2.0",
            "_model_module": "@jupyter-widgets/controls"
          }
        },
        "fcbbb72a73b545b4aaeaba4607f1caa3": {
          "model_module": "@jupyter-widgets/base",
          "model_name": "LayoutModel",
          "state": {
            "_view_name": "LayoutView",
            "grid_template_rows": null,
            "right": null,
            "justify_content": null,
            "_view_module": "@jupyter-widgets/base",
            "overflow": null,
            "_model_module_version": "1.2.0",
            "_view_count": null,
            "flex_flow": null,
            "width": null,
            "min_width": null,
            "border": null,
            "align_items": null,
            "bottom": null,
            "_model_module": "@jupyter-widgets/base",
            "top": null,
            "grid_column": null,
            "overflow_y": null,
            "overflow_x": null,
            "grid_auto_flow": null,
            "grid_area": null,
            "grid_template_columns": null,
            "flex": null,
            "_model_name": "LayoutModel",
            "justify_items": null,
            "grid_row": null,
            "max_height": null,
            "align_content": null,
            "visibility": null,
            "align_self": null,
            "height": null,
            "min_height": null,
            "padding": null,
            "grid_auto_rows": null,
            "grid_gap": null,
            "max_width": null,
            "order": null,
            "_view_module_version": "1.2.0",
            "grid_template_areas": null,
            "object_position": null,
            "object_fit": null,
            "grid_auto_columns": null,
            "margin": null,
            "display": null,
            "left": null
          }
        },
        "2aa3c04385fe418a987e220e7d127998": {
          "model_module": "@jupyter-widgets/controls",
          "model_name": "HBoxModel",
          "state": {
            "_view_name": "HBoxView",
            "_dom_classes": [],
            "_model_name": "HBoxModel",
            "_view_module": "@jupyter-widgets/controls",
            "_model_module_version": "1.5.0",
            "_view_count": null,
            "_view_module_version": "1.5.0",
            "box_style": "",
            "layout": "IPY_MODEL_4452d3b31d1f4e59b42daed34028d99d",
            "_model_module": "@jupyter-widgets/controls",
            "children": [
              "IPY_MODEL_4e1c89120be74edf8fb10e9f7dd9b33f",
              "IPY_MODEL_cdf49fcd87594417b8428672e1019577"
            ]
          }
        },
        "4452d3b31d1f4e59b42daed34028d99d": {
          "model_module": "@jupyter-widgets/base",
          "model_name": "LayoutModel",
          "state": {
            "_view_name": "LayoutView",
            "grid_template_rows": null,
            "right": null,
            "justify_content": null,
            "_view_module": "@jupyter-widgets/base",
            "overflow": null,
            "_model_module_version": "1.2.0",
            "_view_count": null,
            "flex_flow": null,
            "width": null,
            "min_width": null,
            "border": null,
            "align_items": null,
            "bottom": null,
            "_model_module": "@jupyter-widgets/base",
            "top": null,
            "grid_column": null,
            "overflow_y": null,
            "overflow_x": null,
            "grid_auto_flow": null,
            "grid_area": null,
            "grid_template_columns": null,
            "flex": null,
            "_model_name": "LayoutModel",
            "justify_items": null,
            "grid_row": null,
            "max_height": null,
            "align_content": null,
            "visibility": null,
            "align_self": null,
            "height": null,
            "min_height": null,
            "padding": null,
            "grid_auto_rows": null,
            "grid_gap": null,
            "max_width": null,
            "order": null,
            "_view_module_version": "1.2.0",
            "grid_template_areas": null,
            "object_position": null,
            "object_fit": null,
            "grid_auto_columns": null,
            "margin": null,
            "display": null,
            "left": null
          }
        },
        "4e1c89120be74edf8fb10e9f7dd9b33f": {
          "model_module": "@jupyter-widgets/controls",
          "model_name": "FloatProgressModel",
          "state": {
            "_view_name": "ProgressView",
            "style": "IPY_MODEL_ca61ec45d82646e29f85bbcf9d89b7da",
            "_dom_classes": [],
            "description": "",
            "_model_name": "FloatProgressModel",
            "bar_style": "info",
            "max": 1,
            "_view_module": "@jupyter-widgets/controls",
            "_model_module_version": "1.5.0",
            "value": 0,
            "_view_count": null,
            "_view_module_version": "1.5.0",
            "orientation": "horizontal",
            "min": 0,
            "description_tooltip": null,
            "_model_module": "@jupyter-widgets/controls",
            "layout": "IPY_MODEL_e331e5ebb213418a828bb3d6b8a58e2b"
          }
        },
        "cdf49fcd87594417b8428672e1019577": {
          "model_module": "@jupyter-widgets/controls",
          "model_name": "HTMLModel",
          "state": {
            "_view_name": "HTMLView",
            "style": "IPY_MODEL_a32a7c1e21c24f638dd911404f9657b6",
            "_dom_classes": [],
            "description": "",
            "_model_name": "HTMLModel",
            "placeholder": "​",
            "_view_module": "@jupyter-widgets/controls",
            "_model_module_version": "1.5.0",
            "value": " 0/? [00:00&lt;?, ?it/s]",
            "_view_count": null,
            "_view_module_version": "1.5.0",
            "description_tooltip": null,
            "_model_module": "@jupyter-widgets/controls",
            "layout": "IPY_MODEL_448e6dea2ce64ec38e685d5191c2176a"
          }
        },
        "ca61ec45d82646e29f85bbcf9d89b7da": {
          "model_module": "@jupyter-widgets/controls",
          "model_name": "ProgressStyleModel",
          "state": {
            "_view_name": "StyleView",
            "_model_name": "ProgressStyleModel",
            "description_width": "initial",
            "_view_module": "@jupyter-widgets/base",
            "_model_module_version": "1.5.0",
            "_view_count": null,
            "_view_module_version": "1.2.0",
            "bar_color": null,
            "_model_module": "@jupyter-widgets/controls"
          }
        },
        "e331e5ebb213418a828bb3d6b8a58e2b": {
          "model_module": "@jupyter-widgets/base",
          "model_name": "LayoutModel",
          "state": {
            "_view_name": "LayoutView",
            "grid_template_rows": null,
            "right": null,
            "justify_content": null,
            "_view_module": "@jupyter-widgets/base",
            "overflow": null,
            "_model_module_version": "1.2.0",
            "_view_count": null,
            "flex_flow": null,
            "width": null,
            "min_width": null,
            "border": null,
            "align_items": null,
            "bottom": null,
            "_model_module": "@jupyter-widgets/base",
            "top": null,
            "grid_column": null,
            "overflow_y": null,
            "overflow_x": null,
            "grid_auto_flow": null,
            "grid_area": null,
            "grid_template_columns": null,
            "flex": null,
            "_model_name": "LayoutModel",
            "justify_items": null,
            "grid_row": null,
            "max_height": null,
            "align_content": null,
            "visibility": null,
            "align_self": null,
            "height": null,
            "min_height": null,
            "padding": null,
            "grid_auto_rows": null,
            "grid_gap": null,
            "max_width": null,
            "order": null,
            "_view_module_version": "1.2.0",
            "grid_template_areas": null,
            "object_position": null,
            "object_fit": null,
            "grid_auto_columns": null,
            "margin": null,
            "display": null,
            "left": null
          }
        },
        "a32a7c1e21c24f638dd911404f9657b6": {
          "model_module": "@jupyter-widgets/controls",
          "model_name": "DescriptionStyleModel",
          "state": {
            "_view_name": "StyleView",
            "_model_name": "DescriptionStyleModel",
            "description_width": "",
            "_view_module": "@jupyter-widgets/base",
            "_model_module_version": "1.5.0",
            "_view_count": null,
            "_view_module_version": "1.2.0",
            "_model_module": "@jupyter-widgets/controls"
          }
        },
        "448e6dea2ce64ec38e685d5191c2176a": {
          "model_module": "@jupyter-widgets/base",
          "model_name": "LayoutModel",
          "state": {
            "_view_name": "LayoutView",
            "grid_template_rows": null,
            "right": null,
            "justify_content": null,
            "_view_module": "@jupyter-widgets/base",
            "overflow": null,
            "_model_module_version": "1.2.0",
            "_view_count": null,
            "flex_flow": null,
            "width": null,
            "min_width": null,
            "border": null,
            "align_items": null,
            "bottom": null,
            "_model_module": "@jupyter-widgets/base",
            "top": null,
            "grid_column": null,
            "overflow_y": null,
            "overflow_x": null,
            "grid_auto_flow": null,
            "grid_area": null,
            "grid_template_columns": null,
            "flex": null,
            "_model_name": "LayoutModel",
            "justify_items": null,
            "grid_row": null,
            "max_height": null,
            "align_content": null,
            "visibility": null,
            "align_self": null,
            "height": null,
            "min_height": null,
            "padding": null,
            "grid_auto_rows": null,
            "grid_gap": null,
            "max_width": null,
            "order": null,
            "_view_module_version": "1.2.0",
            "grid_template_areas": null,
            "object_position": null,
            "object_fit": null,
            "grid_auto_columns": null,
            "margin": null,
            "display": null,
            "left": null
          }
        }
      }
    }
  },
  "cells": [
    {
      "cell_type": "code",
      "metadata": {
        "id": "qgYJv8XB4pKU"
      },
      "source": [
        "import torch\r\n",
        "import random\r\n",
        "import numpy as np\r\n"
      ],
      "execution_count": 1,
      "outputs": []
    },
    {
      "cell_type": "code",
      "metadata": {
        "colab": {
          "base_uri": "https://localhost:8080/",
          "height": 403,
          "referenced_widgets": [
            "423caee4d68e43ea839dab77641e5f3a",
            "de0ce0be4d0f4ace892d2bf2606871a0",
            "5cb501d030d14b00bebede99c0be98fa",
            "be473159bfd24460ab52986251f6b457",
            "f81274261e5c4219bfacf58ac71a6f4e",
            "a333996518b745b9a9d9fd82385eacbe",
            "1a3caa26d44742bda8879eef07200b3c",
            "735637749afd432094b071ed102841f1",
            "3540dda4bb2d4b4eb76b3582746ba6f5",
            "d1f98cb156dd439ea788f1c1ff630d55",
            "1fc834140a914465bd28aff610040157",
            "be3086a95b854e7d970d96a35decc199",
            "8e24d8261d34432aba2dee263b59ba3a",
            "279a5c563b894343ad0f02ede8e27cca",
            "6c1ebc4ad4de468284031d4fb7b4532f",
            "cf041967b06549cd886e30a82e2ab507",
            "a17cb34ae50142bea03e928b3f909f13",
            "e9836b9bac1d4ac38a15cf0a894d7ca1",
            "ccdfb5ecdf264abc93606101b0747ec5",
            "42d54369d087414e9f7c5bfa6bb48fee",
            "9f6860ea30f84e77810d2bdc19ebe6ce",
            "fa74ef640ef74d7893f4e26b256f8a52",
            "e51c5ab216fc477cb16aeebf1be70284",
            "fcbbb72a73b545b4aaeaba4607f1caa3",
            "2aa3c04385fe418a987e220e7d127998",
            "4452d3b31d1f4e59b42daed34028d99d",
            "4e1c89120be74edf8fb10e9f7dd9b33f",
            "cdf49fcd87594417b8428672e1019577",
            "ca61ec45d82646e29f85bbcf9d89b7da",
            "e331e5ebb213418a828bb3d6b8a58e2b",
            "a32a7c1e21c24f638dd911404f9657b6",
            "448e6dea2ce64ec38e685d5191c2176a"
          ]
        },
        "id": "GKdBMfpU4z5y",
        "outputId": "48573c69-542e-43d2-bdaf-1b7f6674727a"
      },
      "source": [
        "import torchvision.datasets\r\n",
        "MNIST_train = torchvision.datasets.MNIST('./', download=True, train=True)\r\n",
        "MNIST_test = torchvision.datasets.MNIST('./', download=True, train=False)"
      ],
      "execution_count": 2,
      "outputs": [
        {
          "output_type": "stream",
          "text": [
            "Downloading http://yann.lecun.com/exdb/mnist/train-images-idx3-ubyte.gz to ./MNIST/raw/train-images-idx3-ubyte.gz\n"
          ],
          "name": "stdout"
        },
        {
          "output_type": "display_data",
          "data": {
            "application/vnd.jupyter.widget-view+json": {
              "model_id": "423caee4d68e43ea839dab77641e5f3a",
              "version_minor": 0,
              "version_major": 2
            },
            "text/plain": [
              "HBox(children=(FloatProgress(value=1.0, bar_style='info', max=1.0), HTML(value='')))"
            ]
          },
          "metadata": {
            "tags": []
          }
        },
        {
          "output_type": "stream",
          "text": [
            "Extracting ./MNIST/raw/train-images-idx3-ubyte.gz to ./MNIST/raw\n",
            "Downloading http://yann.lecun.com/exdb/mnist/train-labels-idx1-ubyte.gz to ./MNIST/raw/train-labels-idx1-ubyte.gz\n"
          ],
          "name": "stdout"
        },
        {
          "output_type": "display_data",
          "data": {
            "application/vnd.jupyter.widget-view+json": {
              "model_id": "3540dda4bb2d4b4eb76b3582746ba6f5",
              "version_minor": 0,
              "version_major": 2
            },
            "text/plain": [
              "HBox(children=(FloatProgress(value=1.0, bar_style='info', max=1.0), HTML(value='')))"
            ]
          },
          "metadata": {
            "tags": []
          }
        },
        {
          "output_type": "stream",
          "text": [
            "Extracting ./MNIST/raw/train-labels-idx1-ubyte.gz to ./MNIST/raw\n",
            "Downloading http://yann.lecun.com/exdb/mnist/t10k-images-idx3-ubyte.gz to ./MNIST/raw/t10k-images-idx3-ubyte.gz\n",
            "\n",
            "\n"
          ],
          "name": "stdout"
        },
        {
          "output_type": "display_data",
          "data": {
            "application/vnd.jupyter.widget-view+json": {
              "model_id": "a17cb34ae50142bea03e928b3f909f13",
              "version_minor": 0,
              "version_major": 2
            },
            "text/plain": [
              "HBox(children=(FloatProgress(value=1.0, bar_style='info', max=1.0), HTML(value='')))"
            ]
          },
          "metadata": {
            "tags": []
          }
        },
        {
          "output_type": "stream",
          "text": [
            "Extracting ./MNIST/raw/t10k-images-idx3-ubyte.gz to ./MNIST/raw\n",
            "Downloading http://yann.lecun.com/exdb/mnist/t10k-labels-idx1-ubyte.gz to ./MNIST/raw/t10k-labels-idx1-ubyte.gz\n"
          ],
          "name": "stdout"
        },
        {
          "output_type": "display_data",
          "data": {
            "application/vnd.jupyter.widget-view+json": {
              "model_id": "2aa3c04385fe418a987e220e7d127998",
              "version_minor": 0,
              "version_major": 2
            },
            "text/plain": [
              "HBox(children=(FloatProgress(value=1.0, bar_style='info', max=1.0), HTML(value='')))"
            ]
          },
          "metadata": {
            "tags": []
          }
        },
        {
          "output_type": "stream",
          "text": [
            "Extracting ./MNIST/raw/t10k-labels-idx1-ubyte.gz to ./MNIST/raw\n",
            "Processing...\n",
            "Done!\n"
          ],
          "name": "stdout"
        },
        {
          "output_type": "stream",
          "text": [
            "/usr/local/lib/python3.6/dist-packages/torchvision/datasets/mnist.py:480: UserWarning: The given NumPy array is not writeable, and PyTorch does not support non-writeable tensors. This means you can write to the underlying (supposedly non-writeable) NumPy array using the tensor. You may want to copy the array to protect its data or make it writeable before converting it to a tensor. This type of warning will be suppressed for the rest of this program. (Triggered internally at  /pytorch/torch/csrc/utils/tensor_numpy.cpp:141.)\n",
            "  return torch.from_numpy(parsed.astype(m[2], copy=False)).view(*s)\n"
          ],
          "name": "stderr"
        }
      ]
    },
    {
      "cell_type": "code",
      "metadata": {
        "colab": {
          "base_uri": "https://localhost:8080/"
        },
        "id": "ucY5Evk_42ob",
        "outputId": "007077a6-8d65-427f-9962-837c6815bbb9"
      },
      "source": [
        "X_train = MNIST_train.train_data\r\n",
        "y_train = MNIST_train.train_labels\r\n",
        "X_test = MNIST_test.test_data\r\n",
        "y_test = MNIST_test.test_labels"
      ],
      "execution_count": 3,
      "outputs": [
        {
          "output_type": "stream",
          "text": [
            "/usr/local/lib/python3.6/dist-packages/torchvision/datasets/mnist.py:58: UserWarning: train_data has been renamed data\n",
            "  warnings.warn(\"train_data has been renamed data\")\n",
            "/usr/local/lib/python3.6/dist-packages/torchvision/datasets/mnist.py:48: UserWarning: train_labels has been renamed targets\n",
            "  warnings.warn(\"train_labels has been renamed targets\")\n",
            "/usr/local/lib/python3.6/dist-packages/torchvision/datasets/mnist.py:63: UserWarning: test_data has been renamed data\n",
            "  warnings.warn(\"test_data has been renamed data\")\n",
            "/usr/local/lib/python3.6/dist-packages/torchvision/datasets/mnist.py:53: UserWarning: test_labels has been renamed targets\n",
            "  warnings.warn(\"test_labels has been renamed targets\")\n"
          ],
          "name": "stderr"
        }
      ]
    },
    {
      "cell_type": "code",
      "metadata": {
        "id": "-4oWK6I85L9L"
      },
      "source": [
        "X_train = X_train.float()\r\n",
        "X_test = X_test.float()"
      ],
      "execution_count": 4,
      "outputs": []
    },
    {
      "cell_type": "code",
      "metadata": {
        "id": "JALwzW6G5Qzi"
      },
      "source": [
        "X_train = X_train.reshape([-1, 28 * 28])\r\n",
        "X_test = X_test.reshape([-1, 28 * 28])"
      ],
      "execution_count": 5,
      "outputs": []
    },
    {
      "cell_type": "code",
      "metadata": {
        "id": "ZoEIrpUo5VGS"
      },
      "source": [
        "class MNISTNet(torch.nn.Module):\r\n",
        "    def __init__(self, n_hidden_neurons):\r\n",
        "        super(MNISTNet, self).__init__()\r\n",
        "        self.fc1 = torch.nn.Linear(28 * 28, n_hidden_neurons)\r\n",
        "        self.ac1 = torch.nn.Sigmoid()\r\n",
        "        self.fc2 = torch.nn.Linear(n_hidden_neurons, 10) \r\n",
        "    \r\n",
        "    def forward(self, x):\r\n",
        "        x = self.fc1(x)\r\n",
        "        x = self.ac1(x)\r\n",
        "        x = self.fc2(x)\r\n",
        "        return x\r\n",
        "    \r\n",
        "mnist_net = MNISTNet(100)"
      ],
      "execution_count": 6,
      "outputs": []
    },
    {
      "cell_type": "code",
      "metadata": {
        "id": "-KURCpCk5ZSR"
      },
      "source": [
        "device = torch.device('cuda:0' if torch.cuda.is_available() else 'cpu')\r\n",
        "mnist_net = mnist_net.to(device)"
      ],
      "execution_count": 7,
      "outputs": []
    },
    {
      "cell_type": "code",
      "metadata": {
        "id": "r8YkzGVL5crF"
      },
      "source": [
        "loss = torch.nn.CrossEntropyLoss()\r\n",
        "optimizer = torch.optim.Adam(mnist_net.parameters(), lr=1.0e-3)"
      ],
      "execution_count": 8,
      "outputs": []
    },
    {
      "cell_type": "code",
      "metadata": {
        "colab": {
          "base_uri": "https://localhost:8080/"
        },
        "id": "JmtAyd-r5n7G",
        "outputId": "96b93200-2e36-4784-b56b-b2d298e5fb41"
      },
      "source": [
        "batch_size = 100\r\n",
        "\r\n",
        "test_accuracy_history = []\r\n",
        "test_loss_history = []\r\n",
        "\r\n",
        "X_test = X_test.to(device)\r\n",
        "y_test = y_test.to(device)\r\n",
        "\r\n",
        "for epoch in range(100):\r\n",
        "    order = np.random.permutation(len(X_train))\r\n",
        "    \r\n",
        "    for start_index in range(0, len(X_train), batch_size):\r\n",
        "        optimizer.zero_grad()\r\n",
        "        \r\n",
        "        batch_indexes = order[start_index:start_index+batch_size]\r\n",
        "        \r\n",
        "        X_batch = X_train[batch_indexes].to(device)\r\n",
        "        y_batch = y_train[batch_indexes].to(device)\r\n",
        "        \r\n",
        "        preds = mnist_net.forward(X_batch) \r\n",
        "        \r\n",
        "        loss_value = loss(preds, y_batch)\r\n",
        "        loss_value.backward()\r\n",
        "        \r\n",
        "        optimizer.step()\r\n",
        "\r\n",
        "    test_preds = mnist_net.forward(X_test)\r\n",
        "    test_loss_history.append(loss(test_preds, y_test))\r\n",
        "    \r\n",
        "    accuracy = (test_preds.argmax(dim=1) == y_test).float().mean()\r\n",
        "    test_accuracy_history.append(accuracy)\r\n",
        "    print(epoch, accuracy)"
      ],
      "execution_count": 9,
      "outputs": [
        {
          "output_type": "stream",
          "text": [
            "0 tensor(0.9084, device='cuda:0')\n",
            "1 tensor(0.9191, device='cuda:0')\n",
            "2 tensor(0.9199, device='cuda:0')\n",
            "3 tensor(0.9188, device='cuda:0')\n",
            "4 tensor(0.9241, device='cuda:0')\n",
            "5 tensor(0.9212, device='cuda:0')\n",
            "6 tensor(0.9238, device='cuda:0')\n",
            "7 tensor(0.9269, device='cuda:0')\n",
            "8 tensor(0.9316, device='cuda:0')\n",
            "9 tensor(0.9286, device='cuda:0')\n",
            "10 tensor(0.9329, device='cuda:0')\n",
            "11 tensor(0.9337, device='cuda:0')\n",
            "12 tensor(0.9352, device='cuda:0')\n",
            "13 tensor(0.9344, device='cuda:0')\n",
            "14 tensor(0.9319, device='cuda:0')\n",
            "15 tensor(0.9339, device='cuda:0')\n",
            "16 tensor(0.9375, device='cuda:0')\n",
            "17 tensor(0.9370, device='cuda:0')\n",
            "18 tensor(0.9346, device='cuda:0')\n",
            "19 tensor(0.9384, device='cuda:0')\n",
            "20 tensor(0.9370, device='cuda:0')\n",
            "21 tensor(0.9428, device='cuda:0')\n",
            "22 tensor(0.9391, device='cuda:0')\n",
            "23 tensor(0.9354, device='cuda:0')\n",
            "24 tensor(0.9428, device='cuda:0')\n",
            "25 tensor(0.9389, device='cuda:0')\n",
            "26 tensor(0.9416, device='cuda:0')\n",
            "27 tensor(0.9355, device='cuda:0')\n",
            "28 tensor(0.9407, device='cuda:0')\n",
            "29 tensor(0.9376, device='cuda:0')\n",
            "30 tensor(0.9433, device='cuda:0')\n",
            "31 tensor(0.9469, device='cuda:0')\n",
            "32 tensor(0.9461, device='cuda:0')\n",
            "33 tensor(0.9404, device='cuda:0')\n",
            "34 tensor(0.9425, device='cuda:0')\n",
            "35 tensor(0.9422, device='cuda:0')\n",
            "36 tensor(0.9452, device='cuda:0')\n",
            "37 tensor(0.9454, device='cuda:0')\n",
            "38 tensor(0.9469, device='cuda:0')\n",
            "39 tensor(0.9452, device='cuda:0')\n",
            "40 tensor(0.9455, device='cuda:0')\n",
            "41 tensor(0.9488, device='cuda:0')\n",
            "42 tensor(0.9483, device='cuda:0')\n",
            "43 tensor(0.9497, device='cuda:0')\n",
            "44 tensor(0.9465, device='cuda:0')\n",
            "45 tensor(0.9454, device='cuda:0')\n",
            "46 tensor(0.9459, device='cuda:0')\n",
            "47 tensor(0.9462, device='cuda:0')\n",
            "48 tensor(0.9498, device='cuda:0')\n",
            "49 tensor(0.9482, device='cuda:0')\n",
            "50 tensor(0.9469, device='cuda:0')\n",
            "51 tensor(0.9504, device='cuda:0')\n",
            "52 tensor(0.9510, device='cuda:0')\n",
            "53 tensor(0.9472, device='cuda:0')\n",
            "54 tensor(0.9476, device='cuda:0')\n",
            "55 tensor(0.9524, device='cuda:0')\n",
            "56 tensor(0.9518, device='cuda:0')\n",
            "57 tensor(0.9515, device='cuda:0')\n",
            "58 tensor(0.9499, device='cuda:0')\n",
            "59 tensor(0.9519, device='cuda:0')\n",
            "60 tensor(0.9517, device='cuda:0')\n",
            "61 tensor(0.9505, device='cuda:0')\n",
            "62 tensor(0.9479, device='cuda:0')\n",
            "63 tensor(0.9471, device='cuda:0')\n",
            "64 tensor(0.9504, device='cuda:0')\n",
            "65 tensor(0.9509, device='cuda:0')\n",
            "66 tensor(0.9512, device='cuda:0')\n",
            "67 tensor(0.9519, device='cuda:0')\n",
            "68 tensor(0.9514, device='cuda:0')\n",
            "69 tensor(0.9528, device='cuda:0')\n",
            "70 tensor(0.9518, device='cuda:0')\n",
            "71 tensor(0.9528, device='cuda:0')\n",
            "72 tensor(0.9507, device='cuda:0')\n",
            "73 tensor(0.9478, device='cuda:0')\n",
            "74 tensor(0.9549, device='cuda:0')\n",
            "75 tensor(0.9473, device='cuda:0')\n",
            "76 tensor(0.9526, device='cuda:0')\n",
            "77 tensor(0.9512, device='cuda:0')\n",
            "78 tensor(0.9549, device='cuda:0')\n",
            "79 tensor(0.9505, device='cuda:0')\n",
            "80 tensor(0.9538, device='cuda:0')\n",
            "81 tensor(0.9549, device='cuda:0')\n",
            "82 tensor(0.9561, device='cuda:0')\n",
            "83 tensor(0.9576, device='cuda:0')\n",
            "84 tensor(0.9530, device='cuda:0')\n",
            "85 tensor(0.9524, device='cuda:0')\n",
            "86 tensor(0.9517, device='cuda:0')\n",
            "87 tensor(0.9531, device='cuda:0')\n",
            "88 tensor(0.9565, device='cuda:0')\n",
            "89 tensor(0.9511, device='cuda:0')\n",
            "90 tensor(0.9542, device='cuda:0')\n",
            "91 tensor(0.9536, device='cuda:0')\n",
            "92 tensor(0.9521, device='cuda:0')\n",
            "93 tensor(0.9549, device='cuda:0')\n",
            "94 tensor(0.9568, device='cuda:0')\n",
            "95 tensor(0.9540, device='cuda:0')\n",
            "96 tensor(0.9525, device='cuda:0')\n",
            "97 tensor(0.9577, device='cuda:0')\n",
            "98 tensor(0.9592, device='cuda:0')\n",
            "99 tensor(0.9540, device='cuda:0')\n"
          ],
          "name": "stdout"
        }
      ]
    }
  ]
}